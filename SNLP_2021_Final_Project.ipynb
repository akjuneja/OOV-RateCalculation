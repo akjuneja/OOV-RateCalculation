{
 "cells": [
  {
   "cell_type": "markdown",
   "metadata": {
    "id": "4SztzmhdMkrX"
   },
   "source": [
    "# SNLP 2021 Final Project\n",
    "\n",
    "Name 1: Anushka Kothari <br/>\n",
    "Student id 1: 7015914 <br/>\n",
    "Email 1: anko00006@stud.uni-saarland.de <br/>\n",
    "\n",
    "\n",
    "Name 2: Akhil Juneja <br/>\n",
    "Student id 2: 7015523 <br/>\n",
    "Email 2: akju00001@stud.uni-saarland.de <br/> "
   ]
  },
  {
   "cell_type": "markdown",
   "metadata": {},
   "source": [
    "## **1 Data Preparation (pre-processing and data splitting)**"
   ]
  },
  {
   "cell_type": "code",
   "execution_count": 85,
   "metadata": {},
   "outputs": [],
   "source": [
    "import os\n",
    "from pathlib import Path\n",
    "\n",
    "from importlib import reload\n",
    "import Pre\n",
    "Pre = reload(Pre)\n",
    "\n",
    "### Preprocessing and splitting english text ###\n",
    "\n",
    "english_text = Path(\"/home/snlp-project-21/Desktop/SNLP-Project/data/alice_in_wonderland.txt\").open('r').read()\n",
    "preprocess_english_text = Pre.preprocess(english_text)\n",
    "\n",
    "eng_len = len(preprocess_english_text)\n",
    "eng_train = preprocess_english_text[:int(0.8 * eng_len)]\n",
    "eng_test =  preprocess_english_text[int(0.8 * eng_len):]\n",
    "\n",
    "file = open(\"eng_train.txt\", \"w\")\n",
    "file.write(eng_train)\n",
    "file.close()\n",
    "\n",
    "file = open(\"eng_test.txt\", \"w\")\n",
    "file.write(eng_test)\n",
    "file.close()\n",
    "\n",
    "### Preprocessing and splitting bengali text ###\n",
    "\n",
    "bengali_text = Path(\"/home/snlp-project-21/Desktop/SNLP-Project/data/bengali_corpus.txt\").open('r').read()\n",
    "preprocess_bengali_text = Pre.preprocess_ben(bengali_text)\n",
    "\n",
    "ben_len = len(preprocess_bengali_text)\n",
    "ben_train = preprocess_bengali_text[:int(0.8 * ben_len)]\n",
    "ben_test =  preprocess_bengali_text[int(0.8 * ben_len):]\n",
    "\n",
    "file = open(\"ben_train.txt\", \"w\")\n",
    "file.write(ben_train)\n",
    "file.close()\n",
    "\n",
    "file = open(\"ben_test.txt\", \"w\")\n",
    "file.write(ben_test)\n",
    "file.close()"
   ]
  },
  {
   "cell_type": "markdown",
   "metadata": {},
   "source": [
    "## **2. Subword Segmentation**"
   ]
  },
  {
   "cell_type": "markdown",
   "metadata": {},
   "source": [
    "## en_s1"
   ]
  },
  {
   "cell_type": "markdown",
   "metadata": {},
   "source": [
    "### Training data for character size vocabolary"
   ]
  },
  {
   "cell_type": "code",
   "execution_count": 87,
   "metadata": {},
   "outputs": [
    {
     "name": "stdout",
     "output_type": "stream",
     "text": [
      "sentencepiece_trainer.cc(77) LOG(INFO) Starts training with : \r\n",
      "trainer_spec {\r\n",
      "  input: eng_train.txt\r\n",
      "  input_format: \r\n",
      "  model_prefix: /home/snlp-project-21/Desktop/SNLP-Project/spm/en_s1/en_s1_train_model_prefix\r\n",
      "  model_type: BPE\r\n",
      "  vocab_size: 31\r\n",
      "  self_test_sample_size: 0\r\n",
      "  character_coverage: 1\r\n",
      "  input_sentence_size: 0\r\n",
      "  shuffle_input_sentence: 1\r\n",
      "  seed_sentencepiece_size: 1000000\r\n",
      "  shrinking_factor: 0.75\r\n",
      "  max_sentence_length: 4192\r\n",
      "  num_threads: 16\r\n",
      "  num_sub_iterations: 2\r\n",
      "  max_sentencepiece_length: 16\r\n",
      "  split_by_unicode_script: 1\r\n",
      "  split_by_number: 1\r\n",
      "  split_by_whitespace: 1\r\n",
      "  split_digits: 0\r\n",
      "  treat_whitespace_as_suffix: 0\r\n",
      "  allow_whitespace_only_pieces: 0\r\n",
      "  required_chars: \r\n",
      "  byte_fallback: 0\r\n",
      "  vocabulary_output_piece_score: 1\r\n",
      "  train_extremely_large_corpus: 0\r\n",
      "  hard_vocab_limit: 1\r\n",
      "  use_all_vocab: 0\r\n",
      "  unk_id: 0\r\n",
      "  bos_id: 1\r\n",
      "  eos_id: 2\r\n",
      "  pad_id: -1\r\n",
      "  unk_piece: <unk>\r\n",
      "  bos_piece: <s>\r\n",
      "  eos_piece: </s>\r\n",
      "  pad_piece: <pad>\r\n",
      "  unk_surface:  ⁇ \r\n",
      "}\r\n",
      "normalizer_spec {\r\n",
      "  name: nmt_nfkc\r\n",
      "  add_dummy_prefix: 1\r\n",
      "  remove_extra_whitespaces: 1\r\n",
      "  escape_whitespaces: 1\r\n",
      "  normalization_rule_tsv: \r\n",
      "}\r\n",
      "denormalizer_spec {}\r\n",
      "trainer_interface.cc(329) LOG(INFO) SentenceIterator is not specified. Using MultiFileSentenceIterator.\r\n",
      "trainer_interface.cc(178) LOG(INFO) Loading corpus: eng_train.txt\r\n",
      "trainer_interface.cc(385) LOG(INFO) Loaded all 2158 sentences\r\n",
      "trainer_interface.cc(400) LOG(INFO) Adding meta_piece: <unk>\r\n",
      "trainer_interface.cc(400) LOG(INFO) Adding meta_piece: <s>\r\n",
      "trainer_interface.cc(400) LOG(INFO) Adding meta_piece: </s>\r\n",
      "trainer_interface.cc(405) LOG(INFO) Normalizing sentences...\r\n",
      "trainer_interface.cc(466) LOG(INFO) all chars count=107339\r\n",
      "trainer_interface.cc(487) LOG(INFO) Alphabet size=28\r\n",
      "trainer_interface.cc(488) LOG(INFO) Final character coverage=1\r\n",
      "trainer_interface.cc(520) LOG(INFO) Done! preprocessed 2149 sentences.\r\n",
      "trainer_interface.cc(526) LOG(INFO) Tokenizing input sentences with whitespace: 2149\r\n",
      "trainer_interface.cc(537) LOG(INFO) Done! 2426\r\n",
      "trainer_interface.cc(615) LOG(INFO) Saving model: /home/snlp-project-21/Desktop/SNLP-Project/spm/en_s1/en_s1_train_model_prefix.model\r\n",
      "trainer_interface.cc(626) LOG(INFO) Saving vocabs: /home/snlp-project-21/Desktop/SNLP-Project/spm/en_s1/en_s1_train_model_prefix.vocab\r\n"
     ]
    }
   ],
   "source": [
    "!spm_train \\\n",
    "  --input=eng_train.txt \\\n",
    "  --model_prefix=/home/snlp-project-21/Desktop/SNLP-Project/spm/en_s1/en_s1_train_model_prefix \\\n",
    "  --vocab_size=31 \\\n",
    "  --character_coverage=1.0 \\\n",
    "  --model_type=bpe"
   ]
  },
  {
   "cell_type": "code",
   "execution_count": 88,
   "metadata": {},
   "outputs": [],
   "source": [
    "!spm_encode \\\n",
    "  --model=/home/snlp-project-21/Desktop/SNLP-Project/spm/en_s1/en_s1_train_model_prefix.model \\\n",
    "  --output_format=piece \\\n",
    "  < eng_train.txt \\\n",
    "  > /home/snlp-project-21/Desktop/SNLP-Project/spm/en_s1/en_s1_train_segmented.txt"
   ]
  },
  {
   "cell_type": "code",
   "execution_count": 89,
   "metadata": {},
   "outputs": [],
   "source": [
    "!spm_decode \\\n",
    "  --model=/home/snlp-project-21/Desktop/SNLP-Project/spm/en_s1/en_s1_train_model_prefix.model \\\n",
    "  --input_format=piece \\\n",
    "  < /home/snlp-project-21/Desktop/SNLP-Project/spm/en_s1/en_s1_train_segmented.txt \\\n",
    "  > /home/snlp-project-21/Desktop/SNLP-Project/spm/en_s1/en_s1_train_original.txt"
   ]
  },
  {
   "cell_type": "markdown",
   "metadata": {},
   "source": [
    "### Validation data for character size vocabolary"
   ]
  },
  {
   "cell_type": "code",
   "execution_count": 90,
   "metadata": {},
   "outputs": [],
   "source": [
    "!spm_encode \\\n",
    "  --model=/home/snlp-project-21/Desktop/SNLP-Project/spm/en_s1/en_s1_train_model_prefix.model \\\n",
    "  --output_format=piece \\\n",
    "  < eng_test.txt \\\n",
    "  > /home/snlp-project-21/Desktop/SNLP-Project/spm/en_s1/en_s1_test_segmented.txt"
   ]
  },
  {
   "cell_type": "code",
   "execution_count": 91,
   "metadata": {},
   "outputs": [],
   "source": [
    "!spm_decode \\\n",
    "  --model=/home/snlp-project-21/Desktop/SNLP-Project/spm/en_s1/en_s1_train_model_prefix.model \\\n",
    "  --input_format=piece \\\n",
    "  < /home/snlp-project-21/Desktop/SNLP-Project/spm/en_s1/en_s1_test_segmented.txt \\\n",
    "  > /home/snlp-project-21/Desktop/SNLP-Project/spm/en_s1/en_s1_test_original.txt"
   ]
  },
  {
   "cell_type": "markdown",
   "metadata": {},
   "source": [
    "## en_s2"
   ]
  },
  {
   "cell_type": "markdown",
   "metadata": {},
   "source": [
    "### Training data for lower vocabolary size"
   ]
  },
  {
   "cell_type": "code",
   "execution_count": 134,
   "metadata": {},
   "outputs": [
    {
     "name": "stdout",
     "output_type": "stream",
     "text": [
      "sentencepiece_trainer.cc(77) LOG(INFO) Starts training with : \r\n",
      "trainer_spec {\r\n",
      "  input: eng_train.txt\r\n",
      "  input_format: \r\n",
      "  model_prefix: /home/snlp-project-21/Desktop/SNLP-Project/spm/en_s2/en_s2_train_model_prefix\r\n",
      "  model_type: BPE\r\n",
      "  vocab_size: 150\r\n",
      "  self_test_sample_size: 0\r\n",
      "  character_coverage: 1\r\n",
      "  input_sentence_size: 0\r\n",
      "  shuffle_input_sentence: 1\r\n",
      "  seed_sentencepiece_size: 1000000\r\n",
      "  shrinking_factor: 0.75\r\n",
      "  max_sentence_length: 4192\r\n",
      "  num_threads: 16\r\n",
      "  num_sub_iterations: 2\r\n",
      "  max_sentencepiece_length: 16\r\n",
      "  split_by_unicode_script: 1\r\n",
      "  split_by_number: 1\r\n",
      "  split_by_whitespace: 1\r\n",
      "  split_digits: 0\r\n",
      "  treat_whitespace_as_suffix: 0\r\n",
      "  allow_whitespace_only_pieces: 0\r\n",
      "  required_chars: \r\n",
      "  byte_fallback: 0\r\n",
      "  vocabulary_output_piece_score: 1\r\n",
      "  train_extremely_large_corpus: 0\r\n",
      "  hard_vocab_limit: 1\r\n",
      "  use_all_vocab: 0\r\n",
      "  unk_id: 0\r\n",
      "  bos_id: 1\r\n",
      "  eos_id: 2\r\n",
      "  pad_id: -1\r\n",
      "  unk_piece: <unk>\r\n",
      "  bos_piece: <s>\r\n",
      "  eos_piece: </s>\r\n",
      "  pad_piece: <pad>\r\n",
      "  unk_surface:  ⁇ \r\n",
      "}\r\n",
      "normalizer_spec {\r\n",
      "  name: nmt_nfkc\r\n",
      "  add_dummy_prefix: 1\r\n",
      "  remove_extra_whitespaces: 1\r\n",
      "  escape_whitespaces: 1\r\n",
      "  normalization_rule_tsv: \r\n",
      "}\r\n",
      "denormalizer_spec {}\r\n",
      "trainer_interface.cc(329) LOG(INFO) SentenceIterator is not specified. Using MultiFileSentenceIterator.\r\n",
      "trainer_interface.cc(178) LOG(INFO) Loading corpus: eng_train.txt\r\n",
      "trainer_interface.cc(385) LOG(INFO) Loaded all 2158 sentences\r\n",
      "trainer_interface.cc(400) LOG(INFO) Adding meta_piece: <unk>\r\n",
      "trainer_interface.cc(400) LOG(INFO) Adding meta_piece: <s>\r\n",
      "trainer_interface.cc(400) LOG(INFO) Adding meta_piece: </s>\r\n",
      "trainer_interface.cc(405) LOG(INFO) Normalizing sentences...\r\n",
      "trainer_interface.cc(466) LOG(INFO) all chars count=107339\r\n",
      "trainer_interface.cc(487) LOG(INFO) Alphabet size=28\r\n",
      "trainer_interface.cc(488) LOG(INFO) Final character coverage=1\r\n",
      "trainer_interface.cc(520) LOG(INFO) Done! preprocessed 2149 sentences.\r\n",
      "trainer_interface.cc(526) LOG(INFO) Tokenizing input sentences with whitespace: 2149\r\n",
      "trainer_interface.cc(537) LOG(INFO) Done! 2426\r\n",
      "bpe_model_trainer.cc(167) LOG(INFO) Updating active symbols. max_freq=3470 min_freq=1\r\n",
      "bpe_model_trainer.cc(258) LOG(INFO) Added: freq=695 size=20 all=836 active=808 piece=▁and\r\n",
      "bpe_model_trainer.cc(258) LOG(INFO) Added: freq=442 size=40 all=1173 active=1145 piece=ow\r\n",
      "bpe_model_trainer.cc(258) LOG(INFO) Added: freq=300 size=60 all=1559 active=1531 piece=▁h\r\n",
      "bpe_model_trainer.cc(258) LOG(INFO) Added: freq=202 size=80 all=1823 active=1795 piece=oo\r\n",
      "bpe_model_trainer.cc(258) LOG(INFO) Added: freq=152 size=100 all=2081 active=2053 piece=▁do\r\n",
      "bpe_model_trainer.cc(167) LOG(INFO) Updating active symbols. max_freq=150 min_freq=6\r\n",
      "trainer_interface.cc(615) LOG(INFO) Saving model: /home/snlp-project-21/Desktop/SNLP-Project/spm/en_s2/en_s2_train_model_prefix.model\r\n",
      "trainer_interface.cc(626) LOG(INFO) Saving vocabs: /home/snlp-project-21/Desktop/SNLP-Project/spm/en_s2/en_s2_train_model_prefix.vocab\r\n"
     ]
    }
   ],
   "source": [
    "!spm_train \\\n",
    "  --input=eng_train.txt \\\n",
    "  --model_prefix=/home/snlp-project-21/Desktop/SNLP-Project/spm/en_s2/en_s2_train_model_prefix \\\n",
    "  --vocab_size=150 \\\n",
    "  --character_coverage=1.0 \\\n",
    "  --model_type=bpe"
   ]
  },
  {
   "cell_type": "code",
   "execution_count": 135,
   "metadata": {},
   "outputs": [],
   "source": [
    "!spm_encode \\\n",
    "  --model=/home/snlp-project-21/Desktop/SNLP-Project/spm/en_s2/en_s2_train_model_prefix.model \\\n",
    "  --output_format=piece \\\n",
    "  < eng_train.txt \\\n",
    "  > /home/snlp-project-21/Desktop/SNLP-Project/spm/en_s2/en_s2_train_segmented.txt"
   ]
  },
  {
   "cell_type": "code",
   "execution_count": 136,
   "metadata": {},
   "outputs": [],
   "source": [
    "!spm_decode \\\n",
    "  --model=/home/snlp-project-21/Desktop/SNLP-Project/spm/en_s2/en_s2_train_model_prefix.model \\\n",
    "  --input_format=piece \\\n",
    "  < /home/snlp-project-21/Desktop/SNLP-Project/spm/en_s2/en_s2_train_segmented.txt \\\n",
    "  > /home/snlp-project-21/Desktop/SNLP-Project/spm/en_s2/en_s2_train_original.txt"
   ]
  },
  {
   "cell_type": "markdown",
   "metadata": {},
   "source": [
    "### Validation data for lower vocabolary size"
   ]
  },
  {
   "cell_type": "code",
   "execution_count": 137,
   "metadata": {},
   "outputs": [],
   "source": [
    "!spm_encode \\\n",
    "  --model=/home/snlp-project-21/Desktop/SNLP-Project/spm/en_s2/en_s2_train_model_prefix.model \\\n",
    "  --output_format=piece \\\n",
    "  < eng_test.txt \\\n",
    "  > /home/snlp-project-21/Desktop/SNLP-Project/spm/en_s2/en_s2_test_segmented.txt"
   ]
  },
  {
   "cell_type": "code",
   "execution_count": 138,
   "metadata": {},
   "outputs": [],
   "source": [
    "!spm_decode \\\n",
    "  --model=/home/snlp-project-21/Desktop/SNLP-Project/spm/en_s2/en_s2_train_model_prefix.model \\\n",
    "  --input_format=piece \\\n",
    "  < /home/snlp-project-21/Desktop/SNLP-Project/spm/en_s2/en_s2_test_segmented.txt \\\n",
    "  > /home/snlp-project-21/Desktop/SNLP-Project/spm/en_s2/en_s2_test_original.txt"
   ]
  },
  {
   "cell_type": "markdown",
   "metadata": {},
   "source": [
    "## en_s3"
   ]
  },
  {
   "cell_type": "markdown",
   "metadata": {},
   "source": [
    "### Training data for higher vocabolary size"
   ]
  },
  {
   "cell_type": "code",
   "execution_count": 228,
   "metadata": {},
   "outputs": [
    {
     "name": "stdout",
     "output_type": "stream",
     "text": [
      "sentencepiece_trainer.cc(77) LOG(INFO) Starts training with : \n",
      "trainer_spec {\n",
      "  input: eng_train.txt\n",
      "  input_format: \n",
      "  model_prefix: /home/snlp-project-21/Desktop/SNLP-Project/spm/en_s3/en_s3_train_model_prefix\n",
      "  model_type: BPE\n",
      "  vocab_size: 2000\n",
      "  self_test_sample_size: 0\n",
      "  character_coverage: 1\n",
      "  input_sentence_size: 0\n",
      "  shuffle_input_sentence: 1\n",
      "  seed_sentencepiece_size: 1000000\n",
      "  shrinking_factor: 0.75\n",
      "  max_sentence_length: 4192\n",
      "  num_threads: 16\n",
      "  num_sub_iterations: 2\n",
      "  max_sentencepiece_length: 16\n",
      "  split_by_unicode_script: 1\n",
      "  split_by_number: 1\n",
      "  split_by_whitespace: 1\n",
      "  split_digits: 0\n",
      "  treat_whitespace_as_suffix: 0\n",
      "  allow_whitespace_only_pieces: 0\n",
      "  required_chars: \n",
      "  byte_fallback: 0\n",
      "  vocabulary_output_piece_score: 1\n",
      "  train_extremely_large_corpus: 0\n",
      "  hard_vocab_limit: 1\n",
      "  use_all_vocab: 0\n",
      "  unk_id: 0\n",
      "  bos_id: 1\n",
      "  eos_id: 2\n",
      "  pad_id: -1\n",
      "  unk_piece: <unk>\n",
      "  bos_piece: <s>\n",
      "  eos_piece: </s>\n",
      "  pad_piece: <pad>\n",
      "  unk_surface:  ⁇ \n",
      "}\n",
      "normalizer_spec {\n",
      "  name: nmt_nfkc\n",
      "  add_dummy_prefix: 1\n",
      "  remove_extra_whitespaces: 1\n",
      "  escape_whitespaces: 1\n",
      "  normalization_rule_tsv: \n",
      "}\n",
      "denormalizer_spec {}\n",
      "trainer_interface.cc(329) LOG(INFO) SentenceIterator is not specified. Using MultiFileSentenceIterator.\n",
      "trainer_interface.cc(178) LOG(INFO) Loading corpus: eng_train.txt\n",
      "trainer_interface.cc(385) LOG(INFO) Loaded all 2158 sentences\n",
      "trainer_interface.cc(400) LOG(INFO) Adding meta_piece: <unk>\n",
      "trainer_interface.cc(400) LOG(INFO) Adding meta_piece: <s>\n",
      "trainer_interface.cc(400) LOG(INFO) Adding meta_piece: </s>\n",
      "trainer_interface.cc(405) LOG(INFO) Normalizing sentences...\n",
      "trainer_interface.cc(466) LOG(INFO) all chars count=107339\n",
      "trainer_interface.cc(487) LOG(INFO) Alphabet size=28\n",
      "trainer_interface.cc(488) LOG(INFO) Final character coverage=1\n",
      "trainer_interface.cc(520) LOG(INFO) Done! preprocessed 2149 sentences.\n",
      "trainer_interface.cc(526) LOG(INFO) Tokenizing input sentences with whitespace: 2149\n",
      "trainer_interface.cc(537) LOG(INFO) Done! 2426\n",
      "bpe_model_trainer.cc(167) LOG(INFO) Updating active symbols. max_freq=3470 min_freq=1\n",
      "bpe_model_trainer.cc(258) LOG(INFO) Added: freq=695 size=20 all=836 active=808 piece=▁and\n",
      "bpe_model_trainer.cc(258) LOG(INFO) Added: freq=442 size=40 all=1173 active=1145 piece=ow\n",
      "bpe_model_trainer.cc(258) LOG(INFO) Added: freq=300 size=60 all=1559 active=1531 piece=▁h\n",
      "bpe_model_trainer.cc(258) LOG(INFO) Added: freq=202 size=80 all=1823 active=1795 piece=oo\n",
      "bpe_model_trainer.cc(258) LOG(INFO) Added: freq=152 size=100 all=2081 active=2053 piece=▁do\n",
      "bpe_model_trainer.cc(167) LOG(INFO) Updating active symbols. max_freq=150 min_freq=6\n",
      "bpe_model_trainer.cc(258) LOG(INFO) Added: freq=112 size=120 all=2289 active=1203 piece=▁su\n",
      "bpe_model_trainer.cc(258) LOG(INFO) Added: freq=95 size=140 all=2469 active=1383 piece=pp\n",
      "bpe_model_trainer.cc(258) LOG(INFO) Added: freq=84 size=160 all=2636 active=1550 piece=ound\n",
      "bpe_model_trainer.cc(258) LOG(INFO) Added: freq=74 size=180 all=2720 active=1634 piece=▁about\n",
      "bpe_model_trainer.cc(258) LOG(INFO) Added: freq=64 size=200 all=2793 active=1707 piece=▁say\n",
      "bpe_model_trainer.cc(167) LOG(INFO) Updating active symbols. max_freq=64 min_freq=6\n",
      "bpe_model_trainer.cc(258) LOG(INFO) Added: freq=57 size=220 all=2915 active=1120 piece=▁queen\n",
      "bpe_model_trainer.cc(258) LOG(INFO) Added: freq=50 size=240 all=3080 active=1285 piece=▁dont\n",
      "bpe_model_trainer.cc(258) LOG(INFO) Added: freq=44 size=260 all=3187 active=1392 piece=ose\n",
      "bpe_model_trainer.cc(258) LOG(INFO) Added: freq=40 size=280 all=3298 active=1503 piece=▁are\n",
      "bpe_model_trainer.cc(258) LOG(INFO) Added: freq=37 size=300 all=3366 active=1571 piece=▁such\n",
      "bpe_model_trainer.cc(167) LOG(INFO) Updating active symbols. max_freq=37 min_freq=6\n",
      "bpe_model_trainer.cc(258) LOG(INFO) Added: freq=35 size=320 all=3451 active=1086 piece=▁lar\n",
      "bpe_model_trainer.cc(258) LOG(INFO) Added: freq=32 size=340 all=3507 active=1142 piece=▁should\n",
      "bpe_model_trainer.cc(258) LOG(INFO) Added: freq=30 size=360 all=3583 active=1218 piece=▁last\n",
      "bpe_model_trainer.cc(258) LOG(INFO) Added: freq=28 size=380 all=3635 active=1270 piece=▁been\n",
      "bpe_model_trainer.cc(258) LOG(INFO) Added: freq=26 size=400 all=3679 active=1314 piece=hap\n",
      "bpe_model_trainer.cc(167) LOG(INFO) Updating active symbols. max_freq=26 min_freq=5\n",
      "bpe_model_trainer.cc(258) LOG(INFO) Added: freq=25 size=420 all=3714 active=1032 piece=▁nothing\n",
      "bpe_model_trainer.cc(258) LOG(INFO) Added: freq=23 size=440 all=3791 active=1109 piece=▁sm\n",
      "bpe_model_trainer.cc(258) LOG(INFO) Added: freq=22 size=460 all=3833 active=1151 piece=▁pe\n",
      "bpe_model_trainer.cc(258) LOG(INFO) Added: freq=21 size=480 all=3891 active=1209 piece=est\n",
      "bpe_model_trainer.cc(258) LOG(INFO) Added: freq=20 size=500 all=3936 active=1254 piece=umb\n",
      "bpe_model_trainer.cc(167) LOG(INFO) Updating active symbols. max_freq=20 min_freq=4\n",
      "bpe_model_trainer.cc(258) LOG(INFO) Added: freq=19 size=520 all=3989 active=1039 piece=▁old\n",
      "bpe_model_trainer.cc(258) LOG(INFO) Added: freq=18 size=540 all=4029 active=1079 piece=▁wait\n",
      "bpe_model_trainer.cc(258) LOG(INFO) Added: freq=16 size=560 all=4056 active=1106 piece=ze\n",
      "bpe_model_trainer.cc(258) LOG(INFO) Added: freq=16 size=580 all=4114 active=1164 piece=right\n",
      "bpe_model_trainer.cc(258) LOG(INFO) Added: freq=15 size=600 all=4168 active=1218 piece=▁cro\n",
      "bpe_model_trainer.cc(167) LOG(INFO) Updating active symbols. max_freq=15 min_freq=4\n",
      "bpe_model_trainer.cc(258) LOG(INFO) Added: freq=14 size=620 all=4227 active=1057 piece=ged\n",
      "bpe_model_trainer.cc(258) LOG(INFO) Added: freq=14 size=640 all=4250 active=1080 piece=▁doesnt\n",
      "bpe_model_trainer.cc(258) LOG(INFO) Added: freq=13 size=660 all=4296 active=1126 piece=▁dre\n",
      "bpe_model_trainer.cc(258) LOG(INFO) Added: freq=13 size=680 all=4295 active=1125 piece=▁turned\n",
      "bpe_model_trainer.cc(258) LOG(INFO) Added: freq=12 size=700 all=4350 active=1180 piece=▁ran\n",
      "bpe_model_trainer.cc(167) LOG(INFO) Updating active symbols. max_freq=12 min_freq=3\n",
      "bpe_model_trainer.cc(258) LOG(INFO) Added: freq=12 size=720 all=4359 active=1010 piece=▁among\n",
      "bpe_model_trainer.cc(258) LOG(INFO) Added: freq=11 size=740 all=4380 active=1031 piece=hind\n",
      "bpe_model_trainer.cc(258) LOG(INFO) Added: freq=11 size=760 all=4400 active=1051 piece=▁mind\n",
      "bpe_model_trainer.cc(258) LOG(INFO) Added: freq=10 size=780 all=4407 active=1058 piece=gli\n",
      "bpe_model_trainer.cc(258) LOG(INFO) Added: freq=10 size=800 all=4443 active=1094 piece=▁fell\n",
      "bpe_model_trainer.cc(167) LOG(INFO) Updating active symbols. max_freq=10 min_freq=3\n",
      "bpe_model_trainer.cc(258) LOG(INFO) Added: freq=10 size=820 all=4447 active=1004 piece=▁change\n",
      "bpe_model_trainer.cc(258) LOG(INFO) Added: freq=9 size=840 all=4457 active=1014 piece=fus\n",
      "bpe_model_trainer.cc(258) LOG(INFO) Added: freq=9 size=860 all=4509 active=1066 piece=▁run\n",
      "bpe_model_trainer.cc(258) LOG(INFO) Added: freq=9 size=880 all=4516 active=1073 piece=▁sharp\n",
      "bpe_model_trainer.cc(258) LOG(INFO) Added: freq=8 size=900 all=4514 active=1071 piece=day\n",
      "bpe_model_trainer.cc(167) LOG(INFO) Updating active symbols. max_freq=8 min_freq=3\n",
      "bpe_model_trainer.cc(258) LOG(INFO) Added: freq=8 size=920 all=4581 active=1064 piece=▁own\n",
      "bpe_model_trainer.cc(258) LOG(INFO) Added: freq=8 size=940 all=4584 active=1067 piece=▁drink\n",
      "bpe_model_trainer.cc(258) LOG(INFO) Added: freq=8 size=960 all=4577 active=1060 piece=▁repeat\n",
      "bpe_model_trainer.cc(258) LOG(INFO) Added: freq=7 size=980 all=4572 active=1055 piece=mn\n",
      "bpe_model_trainer.cc(258) LOG(INFO) Added: freq=7 size=1000 all=4638 active=1121 piece=illi\n",
      "bpe_model_trainer.cc(167) LOG(INFO) Updating active symbols. max_freq=7 min_freq=2\n",
      "bpe_model_trainer.cc(258) LOG(INFO) Added: freq=7 size=1020 all=4660 active=1021 piece=▁care\n",
      "bpe_model_trainer.cc(258) LOG(INFO) Added: freq=7 size=1040 all=4660 active=1021 piece=▁birds\n",
      "bpe_model_trainer.cc(258) LOG(INFO) Added: freq=7 size=1060 all=4654 active=1015 piece=▁others\n",
      "bpe_model_trainer.cc(258) LOG(INFO) Added: freq=6 size=1080 all=4645 active=1006 piece=ls\n",
      "bpe_model_trainer.cc(258) LOG(INFO) Added: freq=6 size=1100 all=4690 active=1051 piece=acle\n",
      "bpe_model_trainer.cc(167) LOG(INFO) Updating active symbols. max_freq=6 min_freq=2\n",
      "bpe_model_trainer.cc(258) LOG(INFO) Added: freq=6 size=1120 all=4723 active=1032 piece=▁pri\n",
      "bpe_model_trainer.cc(258) LOG(INFO) Added: freq=6 size=1140 all=4747 active=1056 piece=▁each\n",
      "bpe_model_trainer.cc(258) LOG(INFO) Added: freq=6 size=1160 all=4746 active=1055 piece=▁stay\n",
      "bpe_model_trainer.cc(258) LOG(INFO) Added: freq=6 size=1180 all=4740 active=1049 piece=▁middle\n",
      "bpe_model_trainer.cc(258) LOG(INFO) Added: freq=6 size=1200 all=4727 active=1036 piece=▁forgotten\n",
      "bpe_model_trainer.cc(167) LOG(INFO) Updating active symbols. max_freq=6 min_freq=2\n",
      "bpe_model_trainer.cc(258) LOG(INFO) Added: freq=5 size=1220 all=4772 active=1046 piece=mpt\n"
     ]
    },
    {
     "name": "stdout",
     "output_type": "stream",
     "text": [
      "bpe_model_trainer.cc(258) LOG(INFO) Added: freq=5 size=1240 all=4804 active=1078 piece=▁cor\n",
      "bpe_model_trainer.cc(258) LOG(INFO) Added: freq=5 size=1260 all=4815 active=1089 piece=ouble\n",
      "bpe_model_trainer.cc(258) LOG(INFO) Added: freq=5 size=1280 all=4816 active=1090 piece=▁roof\n",
      "bpe_model_trainer.cc(258) LOG(INFO) Added: freq=5 size=1300 all=4815 active=1089 piece=▁tremb\n",
      "bpe_model_trainer.cc(167) LOG(INFO) Updating active symbols. max_freq=5 min_freq=2\n",
      "bpe_model_trainer.cc(258) LOG(INFO) Added: freq=5 size=1320 all=4806 active=989 piece=▁pardon\n",
      "bpe_model_trainer.cc(258) LOG(INFO) Added: freq=5 size=1340 all=4796 active=979 piece=▁somebody\n",
      "bpe_model_trainer.cc(258) LOG(INFO) Added: freq=4 size=1360 all=4818 active=1001 piece=su\n",
      "bpe_model_trainer.cc(258) LOG(INFO) Added: freq=4 size=1380 all=4859 active=1042 piece=uck\n",
      "bpe_model_trainer.cc(258) LOG(INFO) Added: freq=4 size=1400 all=4888 active=1071 piece=ness\n",
      "bpe_model_trainer.cc(167) LOG(INFO) Updating active symbols. max_freq=4 min_freq=2\n",
      "bpe_model_trainer.cc(258) LOG(INFO) Added: freq=4 size=1420 all=4904 active=1014 piece=▁maj\n",
      "bpe_model_trainer.cc(258) LOG(INFO) Added: freq=4 size=1440 all=4924 active=1034 piece=rench\n",
      "bpe_model_trainer.cc(258) LOG(INFO) Added: freq=4 size=1460 all=4925 active=1035 piece=▁nons\n",
      "bpe_model_trainer.cc(258) LOG(INFO) Added: freq=4 size=1480 all=4932 active=1042 piece=▁begun\n",
      "bpe_model_trainer.cc(258) LOG(INFO) Added: freq=4 size=1500 all=4919 active=1029 piece=▁shant\n",
      "bpe_model_trainer.cc(167) LOG(INFO) Updating active symbols. max_freq=4 min_freq=2\n",
      "bpe_model_trainer.cc(258) LOG(INFO) Added: freq=4 size=1520 all=4907 active=989 piece=▁expect\n",
      "bpe_model_trainer.cc(258) LOG(INFO) Added: freq=4 size=1540 all=4902 active=984 piece=▁wanted\n",
      "bpe_model_trainer.cc(258) LOG(INFO) Added: freq=4 size=1560 all=4883 active=965 piece=▁several\n",
      "bpe_model_trainer.cc(258) LOG(INFO) Added: freq=4 size=1580 all=4867 active=949 piece=▁exclaimed\n",
      "bpe_model_trainer.cc(258) LOG(INFO) Added: freq=3 size=1600 all=4872 active=954 piece=ue\n",
      "bpe_model_trainer.cc(167) LOG(INFO) Updating active symbols. max_freq=3 min_freq=1\n",
      "bpe_model_trainer.cc(258) LOG(INFO) Added: freq=3 size=1620 all=4907 active=1035 piece=rog\n",
      "bpe_model_trainer.cc(258) LOG(INFO) Added: freq=3 size=1640 all=4925 active=1053 piece=foot\n",
      "bpe_model_trainer.cc(258) LOG(INFO) Added: freq=3 size=1660 all=4949 active=1077 piece=▁age\n",
      "bpe_model_trainer.cc(258) LOG(INFO) Added: freq=3 size=1680 all=4950 active=1078 piece=aring\n",
      "bpe_model_trainer.cc(258) LOG(INFO) Added: freq=3 size=1700 all=4960 active=1088 piece=▁curt\n",
      "bpe_model_trainer.cc(167) LOG(INFO) Updating active symbols. max_freq=3 min_freq=1\n",
      "bpe_model_trainer.cc(258) LOG(INFO) Added: freq=3 size=1720 all=4953 active=992 piece=▁pain\n",
      "bpe_model_trainer.cc(258) LOG(INFO) Added: freq=3 size=1740 all=4955 active=994 piece=rtoise\n",
      "bpe_model_trainer.cc(258) LOG(INFO) Added: freq=3 size=1760 all=4947 active=986 piece=▁intro\n",
      "bpe_model_trainer.cc(258) LOG(INFO) Added: freq=3 size=1780 all=4934 active=973 piece=▁swall\n",
      "bpe_model_trainer.cc(258) LOG(INFO) Added: freq=3 size=1800 all=4923 active=962 piece=▁folded\n",
      "bpe_model_trainer.cc(167) LOG(INFO) Updating active symbols. max_freq=3 min_freq=1\n",
      "bpe_model_trainer.cc(258) LOG(INFO) Added: freq=3 size=1820 all=4908 active=986 piece=▁spread\n",
      "bpe_model_trainer.cc(258) LOG(INFO) Added: freq=3 size=1840 all=4889 active=967 piece=▁meaning\n",
      "bpe_model_trainer.cc(258) LOG(INFO) Added: freq=3 size=1860 all=4871 active=949 piece=▁answered\n",
      "bpe_model_trainer.cc(258) LOG(INFO) Added: freq=3 size=1880 all=4855 active=933 piece=▁confusion\n",
      "bpe_model_trainer.cc(258) LOG(INFO) Added: freq=3 size=1900 all=4835 active=913 piece=▁themselves\n",
      "bpe_model_trainer.cc(167) LOG(INFO) Updating active symbols. max_freq=3 min_freq=1\n",
      "bpe_model_trainer.cc(258) LOG(INFO) Added: freq=2 size=1920 all=4859 active=1025 piece=ais\n",
      "bpe_model_trainer.cc(258) LOG(INFO) Added: freq=2 size=1940 all=4881 active=1047 piece=iot\n",
      "bpe_model_trainer.cc(258) LOG(INFO) Added: freq=2 size=1960 all=4896 active=1062 piece=unk\n",
      "trainer_interface.cc(615) LOG(INFO) Saving model: /home/snlp-project-21/Desktop/SNLP-Project/spm/en_s3/en_s3_train_model_prefix.model\n",
      "trainer_interface.cc(626) LOG(INFO) Saving vocabs: /home/snlp-project-21/Desktop/SNLP-Project/spm/en_s3/en_s3_train_model_prefix.vocab\n"
     ]
    }
   ],
   "source": [
    "!spm_train \\\n",
    "  --input=eng_train.txt \\\n",
    "  --model_prefix=/home/snlp-project-21/Desktop/SNLP-Project/spm/en_s3/en_s3_train_model_prefix \\\n",
    "  --vocab_size=2000 \\\n",
    "  --character_coverage=1.0 \\\n",
    "  --model_type=bpe"
   ]
  },
  {
   "cell_type": "code",
   "execution_count": 229,
   "metadata": {},
   "outputs": [],
   "source": [
    "!spm_encode \\\n",
    "  --model=/home/snlp-project-21/Desktop/SNLP-Project/spm/en_s3/en_s3_train_model_prefix.model \\\n",
    "  --output_format=piece \\\n",
    "  < eng_train.txt \\\n",
    "  > /home/snlp-project-21/Desktop/SNLP-Project/spm/en_s3/en_s3_train_segmented.txt"
   ]
  },
  {
   "cell_type": "code",
   "execution_count": 230,
   "metadata": {},
   "outputs": [],
   "source": [
    "!spm_decode \\\n",
    "  --model=/home/snlp-project-21/Desktop/SNLP-Project/spm/en_s3/en_s3_train_model_prefix.model \\\n",
    "  --input_format=piece \\\n",
    "  < /home/snlp-project-21/Desktop/SNLP-Project/spm/en_s3/en_s3_train_segmented.txt \\\n",
    "  > /home/snlp-project-21/Desktop/SNLP-Project/spm/en_s3/en_s3_train_original.txt"
   ]
  },
  {
   "cell_type": "markdown",
   "metadata": {},
   "source": [
    "### Validation data for higher vocabolary size"
   ]
  },
  {
   "cell_type": "code",
   "execution_count": 231,
   "metadata": {},
   "outputs": [],
   "source": [
    "!spm_encode \\\n",
    "  --model=/home/snlp-project-21/Desktop/SNLP-Project/spm/en_s3/en_s3_train_model_prefix.model \\\n",
    "  --output_format=piece \\\n",
    "  < eng_test.txt \\\n",
    "  > /home/snlp-project-21/Desktop/SNLP-Project/spm/en_s3/en_s3_test_segmented.txt"
   ]
  },
  {
   "cell_type": "code",
   "execution_count": 232,
   "metadata": {},
   "outputs": [],
   "source": [
    "!spm_decode \\\n",
    "  --model=/home/snlp-project-21/Desktop/SNLP-Project/spm/en_s3/en_s3_train_model_prefix.model \\\n",
    "  --input_format=piece \\\n",
    "  < /home/snlp-project-21/Desktop/SNLP-Project/spm/en_s3/en_s3_test_segmented.txt \\\n",
    "  > /home/snlp-project-21/Desktop/SNLP-Project/spm/en_s3/en_s3_test_original.txt"
   ]
  },
  {
   "cell_type": "markdown",
   "metadata": {},
   "source": [
    "## bn_s1"
   ]
  },
  {
   "cell_type": "markdown",
   "metadata": {},
   "source": [
    "### Training data for character size vocabolary"
   ]
  },
  {
   "cell_type": "code",
   "execution_count": 176,
   "metadata": {},
   "outputs": [
    {
     "name": "stdout",
     "output_type": "stream",
     "text": [
      "sentencepiece_trainer.cc(77) LOG(INFO) Starts training with : \n",
      "trainer_spec {\n",
      "  input: ben_train.txt\n",
      "  input_format: \n",
      "  model_prefix: /home/snlp-project-21/Desktop/SNLP-Project/spm/bn_s1/bn_s1_train_model_prefix\n",
      "  model_type: BPE\n",
      "  vocab_size: 51\n",
      "  self_test_sample_size: 0\n",
      "  character_coverage: 0.995\n",
      "  input_sentence_size: 0\n",
      "  shuffle_input_sentence: 1\n",
      "  seed_sentencepiece_size: 1000000\n",
      "  shrinking_factor: 0.75\n",
      "  max_sentence_length: 4192\n",
      "  num_threads: 16\n",
      "  num_sub_iterations: 2\n",
      "  max_sentencepiece_length: 16\n",
      "  split_by_unicode_script: 1\n",
      "  split_by_number: 1\n",
      "  split_by_whitespace: 1\n",
      "  split_digits: 0\n",
      "  treat_whitespace_as_suffix: 0\n",
      "  allow_whitespace_only_pieces: 0\n",
      "  required_chars: \n",
      "  byte_fallback: 0\n",
      "  vocabulary_output_piece_score: 1\n",
      "  train_extremely_large_corpus: 0\n",
      "  hard_vocab_limit: 1\n",
      "  use_all_vocab: 0\n",
      "  unk_id: 0\n",
      "  bos_id: 1\n",
      "  eos_id: 2\n",
      "  pad_id: -1\n",
      "  unk_piece: <unk>\n",
      "  bos_piece: <s>\n",
      "  eos_piece: </s>\n",
      "  pad_piece: <pad>\n",
      "  unk_surface:  ⁇ \n",
      "}\n",
      "normalizer_spec {\n",
      "  name: nmt_nfkc\n",
      "  add_dummy_prefix: 1\n",
      "  remove_extra_whitespaces: 1\n",
      "  escape_whitespaces: 1\n",
      "  normalization_rule_tsv: \n",
      "}\n",
      "denormalizer_spec {}\n",
      "trainer_interface.cc(329) LOG(INFO) SentenceIterator is not specified. Using MultiFileSentenceIterator.\n",
      "trainer_interface.cc(178) LOG(INFO) Loading corpus: ben_train.txt\n",
      "trainer_interface.cc(356) LOG(WARNING) Found too long line (8169 > 4192).\n",
      "trainer_interface.cc(358) LOG(WARNING) Too long lines are skipped in the training.\n",
      "trainer_interface.cc(359) LOG(WARNING) The maximum length can be changed with --max_sentence_length=<size> flag.\n",
      "trainer_interface.cc(385) LOG(INFO) Loaded all 469 sentences\n",
      "trainer_interface.cc(391) LOG(INFO) Skipped 151 too long sentences.\n",
      "trainer_interface.cc(400) LOG(INFO) Adding meta_piece: <unk>\n",
      "trainer_interface.cc(400) LOG(INFO) Adding meta_piece: <s>\n",
      "trainer_interface.cc(400) LOG(INFO) Adding meta_piece: </s>\n",
      "trainer_interface.cc(405) LOG(INFO) Normalizing sentences...\n",
      "trainer_interface.cc(466) LOG(INFO) all chars count=238974\n",
      "trainer_interface.cc(477) LOG(INFO) Done: 99.5117% characters are covered.\n",
      "trainer_interface.cc(487) LOG(INFO) Alphabet size=48\n",
      "trainer_interface.cc(488) LOG(INFO) Final character coverage=0.995117\n",
      "trainer_interface.cc(520) LOG(INFO) Done! preprocessed 467 sentences.\n",
      "trainer_interface.cc(526) LOG(INFO) Tokenizing input sentences with whitespace: 467\n",
      "trainer_interface.cc(537) LOG(INFO) Done! 12422\n",
      "trainer_interface.cc(615) LOG(INFO) Saving model: /home/snlp-project-21/Desktop/SNLP-Project/spm/bn_s1/bn_s1_train_model_prefix.model\n",
      "trainer_interface.cc(626) LOG(INFO) Saving vocabs: /home/snlp-project-21/Desktop/SNLP-Project/spm/bn_s1/bn_s1_train_model_prefix.vocab\n"
     ]
    }
   ],
   "source": [
    "!spm_train \\\n",
    "  --input=ben_train.txt \\\n",
    "  --model_prefix=/home/snlp-project-21/Desktop/SNLP-Project/spm/bn_s1/bn_s1_train_model_prefix \\\n",
    "  --vocab_size=51 \\\n",
    "  --character_coverage=0.995 \\\n",
    "  --model_type=bpe"
   ]
  },
  {
   "cell_type": "code",
   "execution_count": 177,
   "metadata": {},
   "outputs": [],
   "source": [
    "!spm_encode \\\n",
    "  --model=/home/snlp-project-21/Desktop/SNLP-Project/spm/bn_s1/bn_s1_train_model_prefix.model \\\n",
    "  --output_format=piece \\\n",
    "  < ben_train.txt \\\n",
    "  > /home/snlp-project-21/Desktop/SNLP-Project/spm/bn_s1/bn_s1_train_segmented.txt"
   ]
  },
  {
   "cell_type": "code",
   "execution_count": 178,
   "metadata": {},
   "outputs": [],
   "source": [
    "!spm_decode \\\n",
    "  --model=/home/snlp-project-21/Desktop/SNLP-Project/spm/bn_s1/bn_s1_train_model_prefix.model \\\n",
    "  --input_format=piece \\\n",
    "  < /home/snlp-project-21/Desktop/SNLP-Project/spm/bn_s1/bn_s1_train_segmented.txt \\\n",
    "  > /home/snlp-project-21/Desktop/SNLP-Project/spm/bn_s1/bn_s1_train_original.txt"
   ]
  },
  {
   "cell_type": "markdown",
   "metadata": {},
   "source": [
    "### Validation data for character size vocabolary"
   ]
  },
  {
   "cell_type": "code",
   "execution_count": 179,
   "metadata": {},
   "outputs": [],
   "source": [
    "!spm_encode \\\n",
    "  --model=/home/snlp-project-21/Desktop/SNLP-Project/spm/bn_s1/bn_s1_train_model_prefix.model \\\n",
    "  --output_format=piece \\\n",
    "  < ben_test.txt \\\n",
    "  > /home/snlp-project-21/Desktop/SNLP-Project/spm/bn_s1/bn_s1_test_segmented.txt"
   ]
  },
  {
   "cell_type": "code",
   "execution_count": 180,
   "metadata": {},
   "outputs": [],
   "source": [
    "!spm_decode \\\n",
    "  --model=/home/snlp-project-21/Desktop/SNLP-Project/spm/bn_s1/bn_s1_train_model_prefix.model \\\n",
    "  --input_format=piece \\\n",
    "  < /home/snlp-project-21/Desktop/SNLP-Project/spm/bn_s1/bn_s1_test_segmented.txt \\\n",
    "  > /home/snlp-project-21/Desktop/SNLP-Project/spm/bn_s1/bn_s1_test_original.txt"
   ]
  },
  {
   "cell_type": "markdown",
   "metadata": {},
   "source": [
    "## bn_s2"
   ]
  },
  {
   "cell_type": "markdown",
   "metadata": {},
   "source": [
    "### Training data for lower vocabolary size"
   ]
  },
  {
   "cell_type": "code",
   "execution_count": 198,
   "metadata": {},
   "outputs": [
    {
     "name": "stdout",
     "output_type": "stream",
     "text": [
      "sentencepiece_trainer.cc(77) LOG(INFO) Starts training with : \n",
      "trainer_spec {\n",
      "  input: ben_train.txt\n",
      "  input_format: \n",
      "  model_prefix: /home/snlp-project-21/Desktop/SNLP-Project/spm/bn_s2/bn_s2_train_model_prefix\n",
      "  model_type: BPE\n",
      "  vocab_size: 200\n",
      "  self_test_sample_size: 0\n",
      "  character_coverage: 0.995\n",
      "  input_sentence_size: 0\n",
      "  shuffle_input_sentence: 1\n",
      "  seed_sentencepiece_size: 1000000\n",
      "  shrinking_factor: 0.75\n",
      "  max_sentence_length: 4192\n",
      "  num_threads: 16\n",
      "  num_sub_iterations: 2\n",
      "  max_sentencepiece_length: 16\n",
      "  split_by_unicode_script: 1\n",
      "  split_by_number: 1\n",
      "  split_by_whitespace: 1\n",
      "  split_digits: 0\n",
      "  treat_whitespace_as_suffix: 0\n",
      "  allow_whitespace_only_pieces: 0\n",
      "  required_chars: \n",
      "  byte_fallback: 0\n",
      "  vocabulary_output_piece_score: 1\n",
      "  train_extremely_large_corpus: 0\n",
      "  hard_vocab_limit: 1\n",
      "  use_all_vocab: 0\n",
      "  unk_id: 0\n",
      "  bos_id: 1\n",
      "  eos_id: 2\n",
      "  pad_id: -1\n",
      "  unk_piece: <unk>\n",
      "  bos_piece: <s>\n",
      "  eos_piece: </s>\n",
      "  pad_piece: <pad>\n",
      "  unk_surface:  ⁇ \n",
      "}\n",
      "normalizer_spec {\n",
      "  name: nmt_nfkc\n",
      "  add_dummy_prefix: 1\n",
      "  remove_extra_whitespaces: 1\n",
      "  escape_whitespaces: 1\n",
      "  normalization_rule_tsv: \n",
      "}\n",
      "denormalizer_spec {}\n",
      "trainer_interface.cc(329) LOG(INFO) SentenceIterator is not specified. Using MultiFileSentenceIterator.\n",
      "trainer_interface.cc(178) LOG(INFO) Loading corpus: ben_train.txt\n",
      "trainer_interface.cc(356) LOG(WARNING) Found too long line (8169 > 4192).\n",
      "trainer_interface.cc(358) LOG(WARNING) Too long lines are skipped in the training.\n",
      "trainer_interface.cc(359) LOG(WARNING) The maximum length can be changed with --max_sentence_length=<size> flag.\n",
      "trainer_interface.cc(385) LOG(INFO) Loaded all 469 sentences\n",
      "trainer_interface.cc(391) LOG(INFO) Skipped 151 too long sentences.\n",
      "trainer_interface.cc(400) LOG(INFO) Adding meta_piece: <unk>\n",
      "trainer_interface.cc(400) LOG(INFO) Adding meta_piece: <s>\n",
      "trainer_interface.cc(400) LOG(INFO) Adding meta_piece: </s>\n",
      "trainer_interface.cc(405) LOG(INFO) Normalizing sentences...\n",
      "trainer_interface.cc(466) LOG(INFO) all chars count=238974\n",
      "trainer_interface.cc(477) LOG(INFO) Done: 99.5117% characters are covered.\n",
      "trainer_interface.cc(487) LOG(INFO) Alphabet size=48\n",
      "trainer_interface.cc(488) LOG(INFO) Final character coverage=0.995117\n",
      "trainer_interface.cc(520) LOG(INFO) Done! preprocessed 467 sentences.\n",
      "trainer_interface.cc(526) LOG(INFO) Tokenizing input sentences with whitespace: 467\n",
      "trainer_interface.cc(537) LOG(INFO) Done! 12422\n",
      "bpe_model_trainer.cc(167) LOG(INFO) Updating active symbols. max_freq=6964 min_freq=3\n",
      "bpe_model_trainer.cc(258) LOG(INFO) Added: freq=1178 size=20 all=1882 active=1630 piece=▁য\n",
      "bpe_model_trainer.cc(258) LOG(INFO) Added: freq=669 size=40 all=2724 active=2472 piece=▁আর\n",
      "bpe_model_trainer.cc(258) LOG(INFO) Added: freq=429 size=60 all=3409 active=3157 piece=▁গল\n",
      "bpe_model_trainer.cc(258) LOG(INFO) Added: freq=341 size=80 all=4151 active=3899 piece=▁আমর\n",
      "bpe_model_trainer.cc(258) LOG(INFO) Added: freq=277 size=100 all=4752 active=4500 piece=▁হব\n",
      "bpe_model_trainer.cc(167) LOG(INFO) Updating active symbols. max_freq=271 min_freq=19\n",
      "bpe_model_trainer.cc(258) LOG(INFO) Added: freq=223 size=120 all=5579 active=1799 piece=সর\n",
      "bpe_model_trainer.cc(258) LOG(INFO) Added: freq=178 size=140 all=6320 active=2540 piece=▁চর\n",
      "trainer_interface.cc(615) LOG(INFO) Saving model: /home/snlp-project-21/Desktop/SNLP-Project/spm/bn_s2/bn_s2_train_model_prefix.model\n",
      "trainer_interface.cc(626) LOG(INFO) Saving vocabs: /home/snlp-project-21/Desktop/SNLP-Project/spm/bn_s2/bn_s2_train_model_prefix.vocab\n"
     ]
    }
   ],
   "source": [
    "!spm_train \\\n",
    "  --input=ben_train.txt \\\n",
    "  --model_prefix=/home/snlp-project-21/Desktop/SNLP-Project/spm/bn_s2/bn_s2_train_model_prefix \\\n",
    "  --vocab_size=200 \\\n",
    "  --character_coverage=0.995 \\\n",
    "  --model_type=bpe"
   ]
  },
  {
   "cell_type": "code",
   "execution_count": 199,
   "metadata": {},
   "outputs": [],
   "source": [
    "!spm_encode \\\n",
    "  --model=/home/snlp-project-21/Desktop/SNLP-Project/spm/bn_s2/bn_s2_train_model_prefix.model \\\n",
    "  --output_format=piece \\\n",
    "  < ben_train.txt \\\n",
    "  > /home/snlp-project-21/Desktop/SNLP-Project/spm/bn_s2/bn_s2_train_segmented.txt"
   ]
  },
  {
   "cell_type": "code",
   "execution_count": 200,
   "metadata": {},
   "outputs": [],
   "source": [
    "!spm_decode \\\n",
    "  --model=/home/snlp-project-21/Desktop/SNLP-Project/spm/bn_s2/bn_s2_train_model_prefix.model \\\n",
    "  --input_format=piece \\\n",
    "  < /home/snlp-project-21/Desktop/SNLP-Project/spm/bn_s2/bn_s2_train_segmented.txt \\\n",
    "  > /home/snlp-project-21/Desktop/SNLP-Project/spm/bn_s2/bn_s2_train_original.txt"
   ]
  },
  {
   "cell_type": "markdown",
   "metadata": {},
   "source": [
    "### Validation data for lower vocabolary size"
   ]
  },
  {
   "cell_type": "code",
   "execution_count": 201,
   "metadata": {},
   "outputs": [],
   "source": [
    "!spm_encode \\\n",
    "  --model=/home/snlp-project-21/Desktop/SNLP-Project/spm/bn_s2/bn_s2_train_model_prefix.model \\\n",
    "  --output_format=piece \\\n",
    "  < ben_test.txt \\\n",
    "  > /home/snlp-project-21/Desktop/SNLP-Project/spm/bn_s2/bn_s2_test_segmented.txt"
   ]
  },
  {
   "cell_type": "code",
   "execution_count": 202,
   "metadata": {},
   "outputs": [],
   "source": [
    "!spm_decode \\\n",
    "  --model=/home/snlp-project-21/Desktop/SNLP-Project/spm/bn_s2/bn_s2_train_model_prefix.model \\\n",
    "  --input_format=piece \\\n",
    "  < /home/snlp-project-21/Desktop/SNLP-Project/spm/bn_s2/bn_s2_test_segmented.txt \\\n",
    "  > /home/snlp-project-21/Desktop/SNLP-Project/spm/bn_s2/bn_s2_test_original.txt"
   ]
  },
  {
   "cell_type": "markdown",
   "metadata": {},
   "source": [
    "## bn_s3"
   ]
  },
  {
   "cell_type": "markdown",
   "metadata": {},
   "source": [
    "### Training data for higher vocabolary size"
   ]
  },
  {
   "cell_type": "code",
   "execution_count": 242,
   "metadata": {},
   "outputs": [
    {
     "name": "stdout",
     "output_type": "stream",
     "text": [
      "sentencepiece_trainer.cc(77) LOG(INFO) Starts training with : \n",
      "trainer_spec {\n",
      "  input: ben_train.txt\n",
      "  input_format: \n",
      "  model_prefix: /home/snlp-project-21/Desktop/SNLP-Project/spm/bn_s3/bn_s3_train_model_prefix\n",
      "  model_type: BPE\n",
      "  vocab_size: 2000\n",
      "  self_test_sample_size: 0\n",
      "  character_coverage: 0.995\n",
      "  input_sentence_size: 0\n",
      "  shuffle_input_sentence: 1\n",
      "  seed_sentencepiece_size: 1000000\n",
      "  shrinking_factor: 0.75\n",
      "  max_sentence_length: 4192\n",
      "  num_threads: 16\n",
      "  num_sub_iterations: 2\n",
      "  max_sentencepiece_length: 16\n",
      "  split_by_unicode_script: 1\n",
      "  split_by_number: 1\n",
      "  split_by_whitespace: 1\n",
      "  split_digits: 0\n",
      "  treat_whitespace_as_suffix: 0\n",
      "  allow_whitespace_only_pieces: 0\n",
      "  required_chars: \n",
      "  byte_fallback: 0\n",
      "  vocabulary_output_piece_score: 1\n",
      "  train_extremely_large_corpus: 0\n",
      "  hard_vocab_limit: 1\n",
      "  use_all_vocab: 0\n",
      "  unk_id: 0\n",
      "  bos_id: 1\n",
      "  eos_id: 2\n",
      "  pad_id: -1\n",
      "  unk_piece: <unk>\n",
      "  bos_piece: <s>\n",
      "  eos_piece: </s>\n",
      "  pad_piece: <pad>\n",
      "  unk_surface:  ⁇ \n",
      "}\n",
      "normalizer_spec {\n",
      "  name: nmt_nfkc\n",
      "  add_dummy_prefix: 1\n",
      "  remove_extra_whitespaces: 1\n",
      "  escape_whitespaces: 1\n",
      "  normalization_rule_tsv: \n",
      "}\n",
      "denormalizer_spec {}\n",
      "trainer_interface.cc(329) LOG(INFO) SentenceIterator is not specified. Using MultiFileSentenceIterator.\n",
      "trainer_interface.cc(178) LOG(INFO) Loading corpus: ben_train.txt\n",
      "trainer_interface.cc(356) LOG(WARNING) Found too long line (8169 > 4192).\n",
      "trainer_interface.cc(358) LOG(WARNING) Too long lines are skipped in the training.\n",
      "trainer_interface.cc(359) LOG(WARNING) The maximum length can be changed with --max_sentence_length=<size> flag.\n",
      "trainer_interface.cc(385) LOG(INFO) Loaded all 469 sentences\n",
      "trainer_interface.cc(391) LOG(INFO) Skipped 151 too long sentences.\n",
      "trainer_interface.cc(400) LOG(INFO) Adding meta_piece: <unk>\n",
      "trainer_interface.cc(400) LOG(INFO) Adding meta_piece: <s>\n",
      "trainer_interface.cc(400) LOG(INFO) Adding meta_piece: </s>\n",
      "trainer_interface.cc(405) LOG(INFO) Normalizing sentences...\n",
      "trainer_interface.cc(466) LOG(INFO) all chars count=238974\n",
      "trainer_interface.cc(477) LOG(INFO) Done: 99.5117% characters are covered.\n",
      "trainer_interface.cc(487) LOG(INFO) Alphabet size=48\n",
      "trainer_interface.cc(488) LOG(INFO) Final character coverage=0.995117\n",
      "trainer_interface.cc(520) LOG(INFO) Done! preprocessed 467 sentences.\n",
      "trainer_interface.cc(526) LOG(INFO) Tokenizing input sentences with whitespace: 467\n",
      "trainer_interface.cc(537) LOG(INFO) Done! 12422\n",
      "bpe_model_trainer.cc(167) LOG(INFO) Updating active symbols. max_freq=6964 min_freq=3\n",
      "bpe_model_trainer.cc(258) LOG(INFO) Added: freq=1178 size=20 all=1882 active=1630 piece=▁য\n",
      "bpe_model_trainer.cc(258) LOG(INFO) Added: freq=669 size=40 all=2724 active=2472 piece=▁আর\n",
      "bpe_model_trainer.cc(258) LOG(INFO) Added: freq=429 size=60 all=3409 active=3157 piece=▁গল\n",
      "bpe_model_trainer.cc(258) LOG(INFO) Added: freq=341 size=80 all=4151 active=3899 piece=▁আমর\n",
      "bpe_model_trainer.cc(258) LOG(INFO) Added: freq=277 size=100 all=4752 active=4500 piece=▁হব\n",
      "bpe_model_trainer.cc(167) LOG(INFO) Updating active symbols. max_freq=271 min_freq=19\n",
      "bpe_model_trainer.cc(258) LOG(INFO) Added: freq=223 size=120 all=5579 active=1799 piece=সর\n",
      "bpe_model_trainer.cc(258) LOG(INFO) Added: freq=178 size=140 all=6320 active=2540 piece=▁চর\n",
      "bpe_model_trainer.cc(258) LOG(INFO) Added: freq=162 size=160 all=6844 active=3064 piece=▁করকট\n",
      "bpe_model_trainer.cc(258) LOG(INFO) Added: freq=141 size=180 all=7241 active=3461 piece=▁খব\n",
      "bpe_model_trainer.cc(258) LOG(INFO) Added: freq=125 size=200 all=7753 active=3973 piece=▁আজ\n",
      "bpe_model_trainer.cc(167) LOG(INFO) Updating active symbols. max_freq=125 min_freq=16\n",
      "bpe_model_trainer.cc(258) LOG(INFO) Added: freq=113 size=220 all=8215 active=1454 piece=▁অভ\n",
      "bpe_model_trainer.cc(258) LOG(INFO) Added: freq=100 size=240 all=8571 active=1810 piece=▁ভর\n",
      "bpe_model_trainer.cc(258) LOG(INFO) Added: freq=91 size=260 all=8986 active=2225 piece=▁দখত\n",
      "bpe_model_trainer.cc(258) LOG(INFO) Added: freq=85 size=280 all=9251 active=2490 piece=▁মভ\n",
      "bpe_model_trainer.cc(258) LOG(INFO) Added: freq=80 size=300 all=9648 active=2887 piece=▁রখ\n",
      "bpe_model_trainer.cc(167) LOG(INFO) Updating active symbols. max_freq=80 min_freq=14\n",
      "bpe_model_trainer.cc(258) LOG(INFO) Added: freq=74 size=320 all=9928 active=1267 piece=▁অপ\n",
      "bpe_model_trainer.cc(258) LOG(INFO) Added: freq=66 size=340 all=10248 active=1587 piece=▁পট\n",
      "bpe_model_trainer.cc(258) LOG(INFO) Added: freq=61 size=360 all=10595 active=1934 piece=▁কই\n",
      "bpe_model_trainer.cc(258) LOG(INFO) Added: freq=56 size=380 all=10847 active=2186 piece=ঙগ\n",
      "bpe_model_trainer.cc(258) LOG(INFO) Added: freq=53 size=400 all=11088 active=2427 piece=▁দখছ\n",
      "bpe_model_trainer.cc(167) LOG(INFO) Updating active symbols. max_freq=53 min_freq=12\n",
      "bpe_model_trainer.cc(258) LOG(INFO) Added: freq=50 size=420 all=11353 active=1257 piece=▁খয়\n",
      "bpe_model_trainer.cc(258) LOG(INFO) Added: freq=46 size=440 all=11618 active=1522 piece=▁হট\n",
      "bpe_model_trainer.cc(258) LOG(INFO) Added: freq=44 size=460 all=11938 active=1842 piece=▁হজর\n",
      "bpe_model_trainer.cc(258) LOG(INFO) Added: freq=41 size=480 all=12190 active=2094 piece=সলর\n",
      "bpe_model_trainer.cc(258) LOG(INFO) Added: freq=39 size=500 all=12407 active=2311 piece=▁পন\n",
      "bpe_model_trainer.cc(167) LOG(INFO) Updating active symbols. max_freq=39 min_freq=11\n",
      "bpe_model_trainer.cc(258) LOG(INFO) Added: freq=37 size=520 all=12587 active=1174 piece=▁জম\n",
      "bpe_model_trainer.cc(258) LOG(INFO) Added: freq=35 size=540 all=12704 active=1291 piece=খল\n",
      "bpe_model_trainer.cc(258) LOG(INFO) Added: freq=34 size=560 all=13000 active=1587 piece=▁সদ\n",
      "bpe_model_trainer.cc(258) LOG(INFO) Added: freq=32 size=580 all=13148 active=1735 piece=▁কক\n",
      "bpe_model_trainer.cc(258) LOG(INFO) Added: freq=31 size=600 all=13302 active=1889 piece=▁নসর\n",
      "bpe_model_trainer.cc(167) LOG(INFO) Updating active symbols. max_freq=31 min_freq=9\n",
      "bpe_model_trainer.cc(258) LOG(INFO) Added: freq=30 size=620 all=13462 active=1154 piece=▁ভতর\n",
      "bpe_model_trainer.cc(258) LOG(INFO) Added: freq=28 size=640 all=13567 active=1259 piece=কটর\n",
      "bpe_model_trainer.cc(258) LOG(INFO) Added: freq=27 size=660 all=13682 active=1374 piece=যই\n",
      "bpe_model_trainer.cc(258) LOG(INFO) Added: freq=27 size=680 all=13819 active=1511 piece=▁নষদধ\n",
      "bpe_model_trainer.cc(258) LOG(INFO) Added: freq=26 size=700 all=13942 active=1634 piece=▁চযনল\n",
      "bpe_model_trainer.cc(167) LOG(INFO) Updating active symbols. max_freq=26 min_freq=8\n",
      "bpe_model_trainer.cc(258) LOG(INFO) Added: freq=25 size=720 all=14056 active=1110 piece=▁সবইক\n",
      "bpe_model_trainer.cc(258) LOG(INFO) Added: freq=24 size=740 all=14254 active=1308 piece=▁এতদন\n",
      "bpe_model_trainer.cc(258) LOG(INFO) Added: freq=23 size=760 all=14394 active=1448 piece=▁আপল\n",
      "bpe_model_trainer.cc(258) LOG(INFO) Added: freq=23 size=780 all=14430 active=1484 piece=▁শয়র\n",
      "bpe_model_trainer.cc(258) LOG(INFO) Added: freq=22 size=800 all=14603 active=1657 piece=▁ভদর\n",
      "bpe_model_trainer.cc(167) LOG(INFO) Updating active symbols. max_freq=22 min_freq=8\n",
      "bpe_model_trainer.cc(258) LOG(INFO) Added: freq=21 size=820 all=14750 active=1145 piece=▁গলম\n",
      "bpe_model_trainer.cc(258) LOG(INFO) Added: freq=20 size=840 all=14838 active=1233 piece=পক\n",
      "bpe_model_trainer.cc(258) LOG(INFO) Added: freq=20 size=860 all=14943 active=1338 piece=▁সজন\n",
      "bpe_model_trainer.cc(258) LOG(INFO) Added: freq=19 size=880 all=15030 active=1425 piece=▁রপ\n",
      "bpe_model_trainer.cc(258) LOG(INFO) Added: freq=18 size=900 all=15098 active=1493 piece=কও\n",
      "bpe_model_trainer.cc(167) LOG(INFO) Updating active symbols. max_freq=18 min_freq=7\n",
      "bpe_model_trainer.cc(258) LOG(INFO) Added: freq=18 size=920 all=15222 active=1105 piece=▁লকর\n",
      "bpe_model_trainer.cc(258) LOG(INFO) Added: freq=17 size=940 all=15330 active=1213 piece=▁আসন\n",
      "bpe_model_trainer.cc(258) LOG(INFO) Added: freq=16 size=960 all=15418 active=1301 piece=পরট\n",
      "bpe_model_trainer.cc(258) LOG(INFO) Added: freq=16 size=980 all=15471 active=1354 piece=▁মরল\n",
      "bpe_model_trainer.cc(258) LOG(INFO) Added: freq=15 size=1000 all=15551 active=1434 piece=হসন\n",
      "bpe_model_trainer.cc(167) LOG(INFO) Updating active symbols. max_freq=15 min_freq=7\n",
      "bpe_model_trainer.cc(258) LOG(INFO) Added: freq=15 size=1020 all=15599 active=1042 piece=▁বনর\n",
      "bpe_model_trainer.cc(258) LOG(INFO) Added: freq=15 size=1040 all=15625 active=1068 piece=▁অভনতর\n",
      "bpe_model_trainer.cc(258) LOG(INFO) Added: freq=14 size=1060 all=15831 active=1274 piece=য়ছ\n",
      "bpe_model_trainer.cc(258) LOG(INFO) Added: freq=14 size=1080 all=15920 active=1363 piece=▁গজব\n",
      "bpe_model_trainer.cc(258) LOG(INFO) Added: freq=14 size=1100 all=15942 active=1385 piece=▁বপএল\n",
      "bpe_model_trainer.cc(167) LOG(INFO) Updating active symbols. max_freq=14 min_freq=6\n",
      "bpe_model_trainer.cc(258) LOG(INFO) Added: freq=13 size=1120 all=16022 active=1081 piece=শধ\n",
      "bpe_model_trainer.cc(258) LOG(INFO) Added: freq=13 size=1140 all=16124 active=1183 piece=▁খলল\n",
      "bpe_model_trainer.cc(258) LOG(INFO) Added: freq=13 size=1160 all=16138 active=1196 piece=▁মরখ\n"
     ]
    },
    {
     "name": "stdout",
     "output_type": "stream",
     "text": [
      "bpe_model_trainer.cc(258) LOG(INFO) Added: freq=13 size=1180 all=16175 active=1233 piece=▁বনইছ\n",
      "bpe_model_trainer.cc(258) LOG(INFO) Added: freq=12 size=1200 all=16290 active=1348 piece=ময়\n",
      "bpe_model_trainer.cc(167) LOG(INFO) Updating active symbols. max_freq=12 min_freq=6\n",
      "bpe_model_trainer.cc(258) LOG(INFO) Added: freq=12 size=1220 all=16372 active=1067 piece=▁থকই\n",
      "bpe_model_trainer.cc(258) LOG(INFO) Added: freq=12 size=1240 all=16399 active=1094 piece=▁ফরয়\n",
      "bpe_model_trainer.cc(258) LOG(INFO) Added: freq=11 size=1260 all=16486 active=1181 piece=ষটর\n",
      "bpe_model_trainer.cc(258) LOG(INFO) Added: freq=11 size=1280 all=16580 active=1275 piece=▁খলয\n",
      "bpe_model_trainer.cc(258) LOG(INFO) Added: freq=11 size=1300 all=16595 active=1290 piece=▁সবম\n",
      "bpe_model_trainer.cc(167) LOG(INFO) Updating active symbols. max_freq=11 min_freq=5\n",
      "bpe_model_trainer.cc(258) LOG(INFO) Added: freq=11 size=1320 all=16616 active=1022 piece=▁সহবর\n",
      "bpe_model_trainer.cc(258) LOG(INFO) Added: freq=10 size=1340 all=16628 active=1034 piece=ছগ\n",
      "bpe_model_trainer.cc(258) LOG(INFO) Added: freq=10 size=1360 all=16734 active=1140 piece=▁ডর\n",
      "bpe_model_trainer.cc(258) LOG(INFO) Added: freq=10 size=1380 all=16770 active=1176 piece=▁জনক\n",
      "bpe_model_trainer.cc(258) LOG(INFO) Added: freq=10 size=1400 all=16784 active=1190 piece=▁ইসলম\n",
      "bpe_model_trainer.cc(167) LOG(INFO) Updating active symbols. max_freq=10 min_freq=5\n",
      "bpe_model_trainer.cc(258) LOG(INFO) Added: freq=10 size=1420 all=16791 active=1008 piece=▁সমপর\n",
      "bpe_model_trainer.cc(258) LOG(INFO) Added: freq=9 size=1440 all=16842 active=1059 piece=লহ\n",
      "bpe_model_trainer.cc(258) LOG(INFO) Added: freq=9 size=1460 all=16950 active=1167 piece=▁আও\n",
      "bpe_model_trainer.cc(258) LOG(INFO) Added: freq=9 size=1480 all=16987 active=1204 piece=পরয়\n",
      "bpe_model_trainer.cc(258) LOG(INFO) Added: freq=9 size=1500 all=17009 active=1226 piece=▁তবও\n",
      "bpe_model_trainer.cc(167) LOG(INFO) Updating active symbols. max_freq=9 min_freq=5\n",
      "bpe_model_trainer.cc(258) LOG(INFO) Added: freq=9 size=1520 all=17026 active=1018 piece=▁হযর\n",
      "bpe_model_trainer.cc(258) LOG(INFO) Added: freq=9 size=1540 all=17038 active=1030 piece=▁পরজন\n",
      "bpe_model_trainer.cc(258) LOG(INFO) Added: freq=8 size=1560 all=17056 active=1048 piece=ঘত\n",
      "bpe_model_trainer.cc(258) LOG(INFO) Added: freq=8 size=1580 all=17180 active=1172 piece=ফলম\n",
      "bpe_model_trainer.cc(258) LOG(INFO) Added: freq=8 size=1600 all=17239 active=1230 piece=কবলর\n",
      "bpe_model_trainer.cc(167) LOG(INFO) Updating active symbols. max_freq=8 min_freq=4\n",
      "bpe_model_trainer.cc(258) LOG(INFO) Added: freq=8 size=1620 all=17248 active=1006 piece=▁কষম\n",
      "bpe_model_trainer.cc(258) LOG(INFO) Added: freq=8 size=1640 all=17266 active=1024 piece=▁ভড়\n",
      "bpe_model_trainer.cc(258) LOG(INFO) Added: freq=8 size=1660 all=17284 active=1042 piece=▁জজঞস\n",
      "bpe_model_trainer.cc(258) LOG(INFO) Added: freq=8 size=1680 all=17284 active=1042 piece=▁হইয়\n",
      "bpe_model_trainer.cc(258) LOG(INFO) Added: freq=7 size=1700 all=17292 active=1050 piece=ডত\n",
      "bpe_model_trainer.cc(167) LOG(INFO) Updating active symbols. max_freq=7 min_freq=4\n",
      "bpe_model_trainer.cc(258) LOG(INFO) Added: freq=7 size=1720 all=17375 active=1079 piece=জরজ\n",
      "bpe_model_trainer.cc(258) LOG(INFO) Added: freq=7 size=1740 all=17424 active=1127 piece=▁হঠ\n",
      "bpe_model_trainer.cc(258) LOG(INFO) Added: freq=7 size=1760 all=17478 active=1181 piece=▁কঠল\n",
      "bpe_model_trainer.cc(258) LOG(INFO) Added: freq=7 size=1780 all=17484 active=1187 piece=▁নচত\n",
      "bpe_model_trainer.cc(258) LOG(INFO) Added: freq=7 size=1800 all=17491 active=1194 piece=▁মভর\n",
      "bpe_model_trainer.cc(167) LOG(INFO) Updating active symbols. max_freq=7 min_freq=4\n",
      "bpe_model_trainer.cc(258) LOG(INFO) Added: freq=7 size=1820 all=17496 active=1006 piece=▁একটই\n",
      "bpe_model_trainer.cc(258) LOG(INFO) Added: freq=7 size=1840 all=17491 active=1001 piece=▁পলপন\n",
      "bpe_model_trainer.cc(258) LOG(INFO) Added: freq=7 size=1860 all=17487 active=997 piece=▁করছলম\n",
      "bpe_model_trainer.cc(258) LOG(INFO) Added: freq=6 size=1880 all=17510 active=1020 piece=ছট\n",
      "bpe_model_trainer.cc(258) LOG(INFO) Added: freq=6 size=1900 all=17605 active=1115 piece=পরন\n",
      "bpe_model_trainer.cc(167) LOG(INFO) Updating active symbols. max_freq=6 min_freq=4\n",
      "bpe_model_trainer.cc(258) LOG(INFO) Added: freq=6 size=1920 all=17667 active=1057 piece=▁দট\n",
      "bpe_model_trainer.cc(258) LOG(INFO) Added: freq=6 size=1940 all=17714 active=1104 piece=▁উঠছ\n",
      "trainer_interface.cc(615) LOG(INFO) Saving model: /home/snlp-project-21/Desktop/SNLP-Project/spm/bn_s3/bn_s3_train_model_prefix.model\n",
      "trainer_interface.cc(626) LOG(INFO) Saving vocabs: /home/snlp-project-21/Desktop/SNLP-Project/spm/bn_s3/bn_s3_train_model_prefix.vocab\n"
     ]
    }
   ],
   "source": [
    "!spm_train \\\n",
    "  --input=ben_train.txt \\\n",
    "  --model_prefix=/home/snlp-project-21/Desktop/SNLP-Project/spm/bn_s3/bn_s3_train_model_prefix \\\n",
    "  --vocab_size=2000 \\\n",
    "  --character_coverage=0.995 \\\n",
    "  --model_type=bpe"
   ]
  },
  {
   "cell_type": "code",
   "execution_count": 243,
   "metadata": {},
   "outputs": [],
   "source": [
    "!spm_encode \\\n",
    "  --model=/home/snlp-project-21/Desktop/SNLP-Project/spm/bn_s3/bn_s3_train_model_prefix.model \\\n",
    "  --output_format=piece \\\n",
    "  < ben_train.txt \\\n",
    "  > /home/snlp-project-21/Desktop/SNLP-Project/spm/bn_s3/bn_s3_train_segmented.txt"
   ]
  },
  {
   "cell_type": "code",
   "execution_count": 244,
   "metadata": {},
   "outputs": [],
   "source": [
    "!spm_decode \\\n",
    "  --model=/home/snlp-project-21/Desktop/SNLP-Project/spm/bn_s3/bn_s3_train_model_prefix.model \\\n",
    "  --input_format=piece \\\n",
    "  < /home/snlp-project-21/Desktop/SNLP-Project/spm/bn_s3/bn_s3_train_segmented.txt \\\n",
    "  > /home/snlp-project-21/Desktop/SNLP-Project/spm/bn_s3/bn_s3_train_original.txt"
   ]
  },
  {
   "cell_type": "markdown",
   "metadata": {},
   "source": [
    "### Validation data for higher vocabolary size"
   ]
  },
  {
   "cell_type": "code",
   "execution_count": 245,
   "metadata": {},
   "outputs": [],
   "source": [
    "!spm_encode \\\n",
    "  --model=/home/snlp-project-21/Desktop/SNLP-Project/spm/bn_s3/bn_s3_train_model_prefix.model \\\n",
    "  --output_format=piece \\\n",
    "  < ben_test.txt \\\n",
    "  > /home/snlp-project-21/Desktop/SNLP-Project/spm/bn_s3/bn_s3_test_segmented.txt"
   ]
  },
  {
   "cell_type": "code",
   "execution_count": 246,
   "metadata": {},
   "outputs": [],
   "source": [
    "!spm_decode \\\n",
    "  --model=/home/snlp-project-21/Desktop/SNLP-Project/spm/bn_s3/bn_s3_train_model_prefix.model \\\n",
    "  --input_format=piece \\\n",
    "  < /home/snlp-project-21/Desktop/SNLP-Project/spm/bn_s3/bn_s3_test_segmented.txt \\\n",
    "  > /home/snlp-project-21/Desktop/SNLP-Project/spm/bn_s3/bn_s3_test_original.txt"
   ]
  },
  {
   "cell_type": "markdown",
   "metadata": {},
   "source": [
    "### **Observation for segmented files**"
   ]
  },
  {
   "cell_type": "markdown",
   "metadata": {},
   "source": [
    "We analyzed the segmented files for all 6 models and observed that **en_s1_train_segmented.txt** file has subword encoding at character level, where each word is splitted into sub words consisting of just single character. Number of characters in the subword increases as we move from **en_s2_train_segmented.txt** to **en_s3_train_segmented.txt**. This happens because vocabolary size is increaing and model is able to identify more subwords with higher vocabolary. There is also the case with segmented files for bengali corpus. "
   ]
  },
  {
   "cell_type": "markdown",
   "metadata": {},
   "source": [
    "## 3. LM Training"
   ]
  },
  {
   "cell_type": "code",
   "execution_count": 115,
   "metadata": {},
   "outputs": [],
   "source": [
    "!rm -rf models/rnnlm/* \\\n",
    " && mkdir -p models/rnnlm"
   ]
  },
  {
   "cell_type": "markdown",
   "metadata": {},
   "source": [
    "## en_s1"
   ]
  },
  {
   "cell_type": "code",
   "execution_count": 92,
   "metadata": {},
   "outputs": [
    {
     "name": "stdout",
     "output_type": "stream",
     "text": [
      "debug mode: 2\n",
      "train file: /home/snlp-project-21/Desktop/SNLP-Project/spm/en_s1/en_s1_train_segmented.txt\n",
      "valid file: /home/snlp-project-21/Desktop/SNLP-Project/spm/en_s1/en_s1_test_segmented.txt\n",
      "class size: 10\n",
      "Hidden layer size: 80\n",
      "BPTT: 3\n",
      "Rand seed: 1\n",
      "rnnlm file: /home/snlp-project-21/Desktop/SNLP-Project/models/rnnlm/en_s1_model_rnnlm\n",
      "Starting training using file /home/snlp-project-21/Desktop/SNLP-Project/spm/en_s1/en_s1_train_segmented.txt\n",
      "Vocab size: 29\n",
      "Words in train file: 110167\n",
      "Iter:   0\tAlpha: 0.100000\t   TRAIN entropy: 2.9263    Words/sec: 81749.2   VALID entropy: 2.7729\n",
      "Iter:   1\tAlpha: 0.100000\t   TRAIN entropy: 2.5067    Words/sec: 84602.3   VALID entropy: 2.6613\n",
      "Iter:   2\tAlpha: 0.100000\t   TRAIN entropy: 2.3797    Words/sec: 83915.3   VALID entropy: 2.5837\n",
      "Iter:   3\tAlpha: 0.100000\t   TRAIN entropy: 2.3007    Words/sec: 82849.5   VALID entropy: 2.5421\n",
      "Iter:   4\tAlpha: 0.100000\t   TRAIN entropy: 2.2484    Words/sec: 82315.3   VALID entropy: 2.5153\n",
      "Iter:   5\tAlpha: 0.100000\t   TRAIN entropy: 2.2103    Words/sec: 82621.5   VALID entropy: 2.5009\n",
      "Iter:   6\tAlpha: 0.100000\t   TRAIN entropy: 2.1815    Words/sec: 83545.9   VALID entropy: 2.4928\n",
      "Iter:   7\tAlpha: 0.100000\t   TRAIN entropy: 2.1600    Words/sec: 84977.8   VALID entropy: 2.4713\n",
      "Iter:   8\tAlpha: 0.100000\t   TRAIN entropy: 2.1420    Words/sec: 83923.6   VALID entropy: 2.4619\n",
      "Iter:   9\tAlpha: 0.100000\t   TRAIN entropy: 2.1278    Words/sec: 83720.8   VALID entropy: 2.4566\n",
      "Iter:  10\tAlpha: 0.050000\t   TRAIN entropy: 2.0534    Words/sec: 83652.1   VALID entropy: 2.3302\n",
      "Iter:  11\tAlpha: 0.025000\t   TRAIN entropy: 2.0092    Words/sec: 82021.1   VALID entropy: 2.2653\n",
      "Iter:  12\tAlpha: 0.012500\t   TRAIN entropy: 1.9870    Words/sec: 83292.8   VALID entropy: 2.2288\n",
      "Iter:  13\tAlpha: 0.006250\t   TRAIN entropy: 1.9746    Words/sec: 83899.7   VALID entropy: 2.2086\n",
      "Iter:  14\tAlpha: 0.003125\t   TRAIN entropy: 1.9674    Words/sec: 79273.6   VALID entropy: 2.1992\n",
      "Iter:  15\tAlpha: 0.001563\t   TRAIN entropy: 1.9630    Words/sec: 83076.2   VALID entropy: 2.1952\n"
     ]
    }
   ],
   "source": [
    "!rm -rf /home/snlp-project-21/Desktop/SNLP-Project/models/rnnlm/en_s1_model_rnnlm*\n",
    "!/home/snlp-project-21/rnnlm/rnnlm \\\n",
    "   -train /home/snlp-project-21/Desktop/SNLP-Project/spm/en_s1/en_s1_train_segmented.txt \\\n",
    "   -valid /home/snlp-project-21/Desktop/SNLP-Project/spm/en_s1/en_s1_test_segmented.txt \\\n",
    "   -rnnlm /home/snlp-project-21/Desktop/SNLP-Project/models/rnnlm/en_s1_model_rnnlm \\\n",
    "   -hidden 80 \\\n",
    "   -rand-seed 1 \\\n",
    "   -debug 2 \\\n",
    "   -bptt 3 \\\n",
    "   -class 10"
   ]
  },
  {
   "cell_type": "markdown",
   "metadata": {},
   "source": [
    "### Perplexity for en_s1 "
   ]
  },
  {
   "cell_type": "code",
   "execution_count": 93,
   "metadata": {},
   "outputs": [
    {
     "name": "stdout",
     "output_type": "stream",
     "text": [
      "test file: /home/snlp-project-21/Desktop/SNLP-Project/spm/en_s1/en_s1_test_segmented.txt\n",
      "rnnlm file: /home/snlp-project-21/Desktop/SNLP-Project/models/rnnlm/en_s1_model_rnnlm\n",
      "\n",
      "test log probability: -18233.048936\n",
      "\n",
      "PPL net: 4.579407\n"
     ]
    }
   ],
   "source": [
    "#Perplexity\n",
    "!/home/snlp-project-21/rnnlm/rnnlm -rnnlm /home/snlp-project-21/Desktop/SNLP-Project/models/rnnlm/en_s1_model_rnnlm -test /home/snlp-project-21/Desktop/SNLP-Project/spm/en_s1/en_s1_test_segmented.txt"
   ]
  },
  {
   "cell_type": "markdown",
   "metadata": {},
   "source": [
    "## en_s2"
   ]
  },
  {
   "cell_type": "code",
   "execution_count": 194,
   "metadata": {},
   "outputs": [
    {
     "name": "stdout",
     "output_type": "stream",
     "text": [
      "debug mode: 2\n",
      "train file: /home/snlp-project-21/Desktop/SNLP-Project/spm/en_s2/en_s2_train_segmented.txt\n",
      "valid file: /home/snlp-project-21/Desktop/SNLP-Project/spm/en_s2/en_s2_test_segmented.txt\n",
      "class size: 20\n",
      "Hidden layer size: 100\n",
      "BPTT: 3\n",
      "Rand seed: 1\n",
      "rnnlm file: /home/snlp-project-21/Desktop/SNLP-Project/models/rnnlm/en_s2_model_rnnlm\n",
      "Starting training using file /home/snlp-project-21/Desktop/SNLP-Project/spm/en_s2/en_s2_train_segmented.txt\n",
      "Vocab size: 148\n",
      "Words in train file: 53916\n",
      "Iter:   0\tAlpha: 0.100000\t   TRAIN entropy: 6.0703    Words/sec: 30170.0   VALID entropy: 5.5211\n",
      "Iter:   1\tAlpha: 0.100000\t   TRAIN entropy: 5.0723    Words/sec: 31412.8   VALID entropy: 5.1300\n",
      "Iter:   2\tAlpha: 0.100000\t   TRAIN entropy: 4.7528    Words/sec: 27373.1   VALID entropy: 4.9765\n",
      "Iter:   3\tAlpha: 0.100000\t   TRAIN entropy: 4.5642    Words/sec: 25461.2   VALID entropy: 4.8881\n",
      "Iter:   4\tAlpha: 0.100000\t   TRAIN entropy: 4.4234    Words/sec: 31812.3   VALID entropy: 4.8311\n",
      "Iter:   5\tAlpha: 0.100000\t   TRAIN entropy: 4.3105    Words/sec: 32022.7   VALID entropy: 4.7881\n",
      "Iter:   6\tAlpha: 0.100000\t   TRAIN entropy: 4.2167    Words/sec: 31664.4   VALID entropy: 4.7615\n",
      "Iter:   7\tAlpha: 0.100000\t   TRAIN entropy: 4.1392    Words/sec: 31726.0   VALID entropy: 4.7441\n",
      "Iter:   8\tAlpha: 0.100000\t   TRAIN entropy: 4.0751    Words/sec: 31491.7   VALID entropy: 4.7360\n",
      "Iter:   9\tAlpha: 0.050000\t   TRAIN entropy: 3.9220    Words/sec: 29202.3   VALID entropy: 4.6397\n",
      "Iter:  10\tAlpha: 0.025000\t   TRAIN entropy: 3.8274    Words/sec: 31342.3   VALID entropy: 4.5819\n",
      "Iter:  11\tAlpha: 0.012500\t   TRAIN entropy: 3.7742    Words/sec: 31710.4   VALID entropy: 4.5401\n",
      "Iter:  12\tAlpha: 0.006250\t   TRAIN entropy: 3.7433    Words/sec: 31005.6   VALID entropy: 4.5018\n",
      "Iter:  13\tAlpha: 0.003125\t   TRAIN entropy: 3.7253    Words/sec: 29978.2   VALID entropy: 4.4779\n",
      "Iter:  14\tAlpha: 0.001563\t   TRAIN entropy: 3.7144    Words/sec: 29686.5   VALID entropy: 4.4678\n"
     ]
    }
   ],
   "source": [
    "!rm -rf /home/snlp-project-21/Desktop/SNLP-Project/models/rnnlm/en_s2_model_rnnlm* \n",
    "!/home/snlp-project-21/rnnlm/rnnlm \\\n",
    "   -train /home/snlp-project-21/Desktop/SNLP-Project/spm/en_s2/en_s2_train_segmented.txt \\\n",
    "   -valid /home/snlp-project-21/Desktop/SNLP-Project/spm/en_s2/en_s2_test_segmented.txt \\\n",
    "   -rnnlm /home/snlp-project-21/Desktop/SNLP-Project/models/rnnlm/en_s2_model_rnnlm \\\n",
    "   -hidden 100 \\\n",
    "   -rand-seed 1 \\\n",
    "   -debug 2 \\\n",
    "   -bptt 3 \\\n",
    "   -class 20"
   ]
  },
  {
   "cell_type": "markdown",
   "metadata": {},
   "source": [
    "### Perplexity for en_s2"
   ]
  },
  {
   "cell_type": "code",
   "execution_count": 195,
   "metadata": {},
   "outputs": [
    {
     "name": "stdout",
     "output_type": "stream",
     "text": [
      "test file: /home/snlp-project-21/Desktop/SNLP-Project/spm/en_s2/en_s2_test_segmented.txt\n",
      "rnnlm file: /home/snlp-project-21/Desktop/SNLP-Project/models/rnnlm/en_s2_model_rnnlm\n",
      "\n",
      "test log probability: -18350.949110\n",
      "\n",
      "PPL net: 22.130085\n"
     ]
    }
   ],
   "source": [
    "#Perplexity\n",
    "!/home/snlp-project-21/rnnlm/rnnlm -rnnlm /home/snlp-project-21/Desktop/SNLP-Project/models/rnnlm/en_s2_model_rnnlm -test /home/snlp-project-21/Desktop/SNLP-Project/spm/en_s2/en_s2_test_segmented.txt"
   ]
  },
  {
   "cell_type": "markdown",
   "metadata": {},
   "source": [
    "## en_s3"
   ]
  },
  {
   "cell_type": "code",
   "execution_count": 233,
   "metadata": {},
   "outputs": [
    {
     "name": "stdout",
     "output_type": "stream",
     "text": [
      "debug mode: 2\n",
      "train file: /home/snlp-project-21/Desktop/SNLP-Project/spm/en_s3/en_s3_train_segmented.txt\n",
      "valid file: /home/snlp-project-21/Desktop/SNLP-Project/spm/en_s3/en_s3_test_segmented.txt\n",
      "class size: 50\n",
      "Hidden layer size: 120\n",
      "BPTT: 3\n",
      "Rand seed: 1\n",
      "rnnlm file: /home/snlp-project-21/Desktop/SNLP-Project/models/rnnlm/en_s3_model_rnnlm\n",
      "Starting training using file /home/snlp-project-21/Desktop/SNLP-Project/spm/en_s3/en_s3_train_segmented.txt\n",
      "Vocab size: 1763\n",
      "Words in train file: 26859\n",
      "Iter:   0\tAlpha: 0.100000\t   TRAIN entropy: 8.4110    Words/sec: 16298.7   VALID entropy: 8.6434\n",
      "Iter:   1\tAlpha: 0.100000\t   TRAIN entropy: 8.0868    Words/sec: 18007.3   VALID entropy: 8.3775\n",
      "Iter:   2\tAlpha: 0.100000\t   TRAIN entropy: 7.8193    Words/sec: 18148.2   VALID entropy: 8.2342\n",
      "Iter:   3\tAlpha: 0.100000\t   TRAIN entropy: 7.6081    Words/sec: 18126.2   VALID entropy: 8.1337\n",
      "Iter:   4\tAlpha: 0.100000\t   TRAIN entropy: 7.4308    Words/sec: 18054.4   VALID entropy: 8.0557\n",
      "Iter:   5\tAlpha: 0.100000\t   TRAIN entropy: 7.2734    Words/sec: 16019.6   VALID entropy: 7.9960\n",
      "Iter:   6\tAlpha: 0.100000\t   TRAIN entropy: 7.1273    Words/sec: 18208.6   VALID entropy: 7.9595\n",
      "Iter:   7\tAlpha: 0.100000\t   TRAIN entropy: 6.9887    Words/sec: 18145.7   VALID entropy: 7.9380\n",
      "Iter:   8\tAlpha: 0.050000\t   TRAIN entropy: 6.7781    Words/sec: 18232.0   VALID entropy: 7.8356\n",
      "Iter:   9\tAlpha: 0.025000\t   TRAIN entropy: 6.6504    Words/sec: 16887.2   VALID entropy: 7.7658\n",
      "Iter:  10\tAlpha: 0.012500\t   TRAIN entropy: 6.5760    Words/sec: 15905.8   VALID entropy: 7.7141\n",
      "Iter:  11\tAlpha: 0.006250\t   TRAIN entropy: 6.5326    Words/sec: 17866.6   VALID entropy: 7.6828\n",
      "Iter:  12\tAlpha: 0.003125\t   TRAIN entropy: 6.5081    Words/sec: 18231.5   VALID entropy: 7.6702\n"
     ]
    }
   ],
   "source": [
    "!rm -rf /home/snlp-project-21/Desktop/SNLP-Project/models/rnnlm/en_s3_model_rnnlm*\n",
    "!/home/snlp-project-21/rnnlm/rnnlm \\\n",
    "   -train /home/snlp-project-21/Desktop/SNLP-Project/spm/en_s3/en_s3_train_segmented.txt \\\n",
    "   -valid /home/snlp-project-21/Desktop/SNLP-Project/spm/en_s3/en_s3_test_segmented.txt \\\n",
    "   -rnnlm /home/snlp-project-21/Desktop/SNLP-Project/models/rnnlm/en_s3_model_rnnlm \\\n",
    "   -hidden 120 \\\n",
    "   -rand-seed 1 \\\n",
    "   -debug 2 \\\n",
    "   -bptt 3 \\\n",
    "   -class 50"
   ]
  },
  {
   "cell_type": "markdown",
   "metadata": {},
   "source": [
    "### Perplexity for en_s3"
   ]
  },
  {
   "cell_type": "code",
   "execution_count": 234,
   "metadata": {},
   "outputs": [
    {
     "name": "stdout",
     "output_type": "stream",
     "text": [
      "test file: /home/snlp-project-21/Desktop/SNLP-Project/spm/en_s3/en_s3_test_segmented.txt\n",
      "rnnlm file: /home/snlp-project-21/Desktop/SNLP-Project/models/rnnlm/en_s3_model_rnnlm\n",
      "\n",
      "test log probability: -16971.650801\n",
      "\n",
      "PPL net: 203.883621\n"
     ]
    }
   ],
   "source": [
    "#Perplexity\n",
    "!/home/snlp-project-21/rnnlm/rnnlm -rnnlm /home/snlp-project-21/Desktop/SNLP-Project/models/rnnlm/en_s3_model_rnnlm -test /home/snlp-project-21/Desktop/SNLP-Project/spm/en_s3/en_s3_test_segmented.txt"
   ]
  },
  {
   "cell_type": "markdown",
   "metadata": {},
   "source": [
    "## bn_s1"
   ]
  },
  {
   "cell_type": "code",
   "execution_count": 254,
   "metadata": {},
   "outputs": [
    {
     "name": "stdout",
     "output_type": "stream",
     "text": [
      "debug mode: 2\n",
      "train file: /home/snlp-project-21/Desktop/SNLP-Project/spm/bn_s1/bn_s1_train_segmented.txt\n",
      "valid file: /home/snlp-project-21/Desktop/SNLP-Project/spm/bn_s1/bn_s1_test_segmented.txt\n",
      "class size: 15\n",
      "Hidden layer size: 100\n",
      "BPTT: 3\n",
      "Rand seed: 1\n",
      "rnnlm file: /home/snlp-project-21/Desktop/SNLP-Project/models/rnnlm/bn_s1_model_rnnlm\n",
      "Starting training using file /home/snlp-project-21/Desktop/SNLP-Project/spm/bn_s1/bn_s1_train_segmented.txt\n",
      "Vocab size: 331\n",
      "Words in train file: 831715\n",
      "Iter:   0\tAlpha: 0.100000\t   TRAIN entropy: 3.3211    Words/sec: 49687.5   VALID entropy: 3.2829\n",
      "Iter:   1\tAlpha: 0.100000\t   TRAIN entropy: 3.1527    Words/sec: 48713.9   VALID entropy: 3.2144\n",
      "Iter:   2\tAlpha: 0.100000\t   TRAIN entropy: 3.1028    Words/sec: 49419.3   VALID entropy: 3.1872\n",
      "Iter:   3\tAlpha: 0.100000\t   TRAIN entropy: 3.0755    Words/sec: 49419.6   VALID entropy: 3.1724\n",
      "Iter:   4\tAlpha: 0.100000\t   TRAIN entropy: 3.0586    Words/sec: 49816.9   VALID entropy: 3.1617\n",
      "Iter:   5\tAlpha: 0.100000\t   TRAIN entropy: 3.0469    Words/sec: 48573.2   VALID entropy: 3.1549\n",
      "Iter:   6\tAlpha: 0.050000\t   TRAIN entropy: 3.0084    Words/sec: 49599.5   VALID entropy: 3.1039\n",
      "Iter:   7\tAlpha: 0.025000\t   TRAIN entropy: 2.9917    Words/sec: 49563.3   VALID entropy: 3.0746\n",
      "Iter:   8\tAlpha: 0.012500\t   TRAIN entropy: 2.9878    Words/sec: 49077.7   VALID entropy: 3.0595\n",
      "Iter:   9\tAlpha: 0.006250\t   TRAIN entropy: 2.9902    Words/sec: 47844.9   VALID entropy: 3.0542\n"
     ]
    }
   ],
   "source": [
    "!rm -rf /home/snlp-project-21/Desktop/SNLP-Project/models/rnnlm/bn_s1_model_rnnlm*\n",
    "!/home/snlp-project-21/rnnlm/rnnlm \\\n",
    " -train /home/snlp-project-21/Desktop/SNLP-Project/spm/bn_s1/bn_s1_train_segmented.txt \\\n",
    " -valid /home/snlp-project-21/Desktop/SNLP-Project/spm/bn_s1/bn_s1_test_segmented.txt \\\n",
    " -rnnlm /home/snlp-project-21/Desktop/SNLP-Project/models/rnnlm/bn_s1_model_rnnlm \\\n",
    "   -hidden 100 \\\n",
    "   -rand-seed 1 \\\n",
    "   -debug 2 \\\n",
    "   -bptt 3 \\\n",
    "   -class 15"
   ]
  },
  {
   "cell_type": "markdown",
   "metadata": {},
   "source": [
    "### Perplexity for bn_s1"
   ]
  },
  {
   "cell_type": "code",
   "execution_count": 255,
   "metadata": {},
   "outputs": [
    {
     "name": "stdout",
     "output_type": "stream",
     "text": [
      "test file: /home/snlp-project-21/Desktop/SNLP-Project/spm/bn_s1/bn_s1_test_segmented.txt\n",
      "rnnlm file: /home/snlp-project-21/Desktop/SNLP-Project/models/rnnlm/bn_s1_model_rnnlm\n",
      "\n",
      "test log probability: -191342.088877\n",
      "\n",
      "PPL net: 8.306007\n"
     ]
    }
   ],
   "source": [
    "#Perplexity\n",
    "!/home/snlp-project-21/rnnlm/rnnlm -rnnlm /home/snlp-project-21/Desktop/SNLP-Project/models/rnnlm/bn_s1_model_rnnlm -test /home/snlp-project-21/Desktop/SNLP-Project/spm/bn_s1/bn_s1_test_segmented.txt"
   ]
  },
  {
   "cell_type": "markdown",
   "metadata": {},
   "source": [
    "## bn_s2"
   ]
  },
  {
   "cell_type": "code",
   "execution_count": 251,
   "metadata": {},
   "outputs": [
    {
     "name": "stdout",
     "output_type": "stream",
     "text": [
      "debug mode: 2\n",
      "train file: /home/snlp-project-21/Desktop/SNLP-Project/spm/bn_s2/bn_s2_train_segmented.txt\n",
      "valid file: /home/snlp-project-21/Desktop/SNLP-Project/spm/bn_s2/bn_s2_test_segmented.txt\n",
      "class size: 25\n",
      "Hidden layer size: 110\n",
      "BPTT: 3\n",
      "Rand seed: 1\n",
      "rnnlm file: /home/snlp-project-21/Desktop/SNLP-Project/models/rnnlm/bn_s2_model_rnnlm\n",
      "Starting training using file /home/snlp-project-21/Desktop/SNLP-Project/spm/bn_s2/bn_s2_train_segmented.txt\n",
      "Vocab size: 480\n",
      "Words in train file: 449873\n",
      "Iter:   0\tAlpha: 0.100000\t   TRAIN entropy: 6.1315    Words/sec: 38158.7   VALID entropy: 5.9900\n",
      "Iter:   1\tAlpha: 0.100000\t   TRAIN entropy: 5.8017    Words/sec: 37568.4   VALID entropy: 5.8788\n",
      "Iter:   2\tAlpha: 0.100000\t   TRAIN entropy: 5.7040    Words/sec: 37396.8   VALID entropy: 5.8239\n",
      "Iter:   3\tAlpha: 0.100000\t   TRAIN entropy: 5.6405    Words/sec: 37622.6   VALID entropy: 5.7848\n",
      "Iter:   4\tAlpha: 0.100000\t   TRAIN entropy: 5.5956    Words/sec: 38133.6   VALID entropy: 5.7540\n",
      "Iter:   5\tAlpha: 0.100000\t   TRAIN entropy: 5.5604    Words/sec: 38039.9   VALID entropy: 5.7339\n",
      "Iter:   6\tAlpha: 0.100000\t   TRAIN entropy: 5.5317    Words/sec: 38110.4   VALID entropy: 5.7174\n",
      "Iter:   7\tAlpha: 0.050000\t   TRAIN entropy: 5.4665    Words/sec: 37883.0   VALID entropy: 5.6362\n",
      "Iter:   8\tAlpha: 0.025000\t   TRAIN entropy: 5.4353    Words/sec: 37407.9   VALID entropy: 5.6033\n",
      "Iter:   9\tAlpha: 0.012500\t   TRAIN entropy: 5.4253    Words/sec: 37995.8   VALID entropy: 5.5941\n"
     ]
    }
   ],
   "source": [
    "!rm -rf /home/snlp-project-21/Desktop/SNLP-Project/models/rnnlm/bn_s2_model_rnnlm*\n",
    "!/home/snlp-project-21/rnnlm/rnnlm \\\n",
    "   -train /home/snlp-project-21/Desktop/SNLP-Project/spm/bn_s2/bn_s2_train_segmented.txt \\\n",
    "   -valid /home/snlp-project-21/Desktop/SNLP-Project/spm/bn_s2/bn_s2_test_segmented.txt \\\n",
    "   -rnnlm /home/snlp-project-21/Desktop/SNLP-Project/models/rnnlm/bn_s2_model_rnnlm \\\n",
    "   -hidden 110 \\\n",
    "   -rand-seed 1 \\\n",
    "   -debug 2 \\\n",
    "   -bptt 3 \\\n",
    "   -class 25"
   ]
  },
  {
   "cell_type": "markdown",
   "metadata": {},
   "source": [
    "### Perplexity for bn_s2"
   ]
  },
  {
   "cell_type": "code",
   "execution_count": 253,
   "metadata": {},
   "outputs": [
    {
     "name": "stdout",
     "output_type": "stream",
     "text": [
      "test file: /home/snlp-project-21/Desktop/SNLP-Project/spm/bn_s2/bn_s2_test_segmented.txt\n",
      "rnnlm file: /home/snlp-project-21/Desktop/SNLP-Project/models/rnnlm/bn_s2_model_rnnlm\n",
      "\n",
      "test log probability: -190791.512201\n",
      "\n",
      "PPL net: 48.305256\n"
     ]
    }
   ],
   "source": [
    "#Perplexity\n",
    "!/home/snlp-project-21/rnnlm/rnnlm -rnnlm /home/snlp-project-21/Desktop/SNLP-Project/models/rnnlm/bn_s2_model_rnnlm -test /home/snlp-project-21/Desktop/SNLP-Project/spm/bn_s2/bn_s2_test_segmented.txt"
   ]
  },
  {
   "cell_type": "markdown",
   "metadata": {},
   "source": [
    "## bn_s3"
   ]
  },
  {
   "cell_type": "code",
   "execution_count": 256,
   "metadata": {},
   "outputs": [
    {
     "name": "stdout",
     "output_type": "stream",
     "text": [
      "debug mode: 2\n",
      "train file: /home/snlp-project-21/Desktop/SNLP-Project/spm/bn_s3/bn_s3_train_segmented.txt\n",
      "valid file: /home/snlp-project-21/Desktop/SNLP-Project/spm/bn_s3/bn_s3_test_segmented.txt\n",
      "class size: 40\n",
      "Hidden layer size: 120\n",
      "BPTT: 3\n",
      "Rand seed: 1\n",
      "rnnlm file: /home/snlp-project-21/Desktop/SNLP-Project/models/rnnlm/bn_s3_model_rnnlm\n",
      "Starting training using file /home/snlp-project-21/Desktop/SNLP-Project/spm/bn_s3/bn_s3_train_segmented.txt\n",
      "Vocab size: 2277\n",
      "Words in train file: 281556\n",
      "Iter:   0\tAlpha: 0.100000\t   TRAIN entropy: 9.4940    Words/sec: 24568.0   VALID entropy: 9.3488\n",
      "Iter:   1\tAlpha: 0.100000\t   TRAIN entropy: 9.1211    Words/sec: 25114.5   VALID entropy: 9.1046\n",
      "Iter:   2\tAlpha: 0.100000\t   TRAIN entropy: 8.9046    Words/sec: 23951.6   VALID entropy: 8.9780\n",
      "Iter:   3\tAlpha: 0.100000\t   TRAIN entropy: 8.7638    Words/sec: 25188.5   VALID entropy: 8.8937\n",
      "Iter:   4\tAlpha: 0.100000\t   TRAIN entropy: 8.6513    Words/sec: 25596.2   VALID entropy: 8.8317\n",
      "Iter:   5\tAlpha: 0.100000\t   TRAIN entropy: 8.5551    Words/sec: 24279.9   VALID entropy: 8.7859\n",
      "Iter:   6\tAlpha: 0.100000\t   TRAIN entropy: 8.4705    Words/sec: 25026.1   VALID entropy: 8.7545a: 0.100000\t   TRAIN entropy: 8.4478    Progress: 10.66%   Words/sec: 24140.2 \n",
      "Iter:   7\tAlpha: 0.100000\t   TRAIN entropy: 8.3952    Words/sec: 24077.8   VALID entropy: 8.7316\n",
      "Iter:   8\tAlpha: 0.050000\t   TRAIN entropy: 8.2552    Words/sec: 26497.6   VALID entropy: 8.6664\n",
      "Iter:   9\tAlpha: 0.025000\t   TRAIN entropy: 8.1608    Words/sec: 22982.8   VALID entropy: 8.6344\n",
      "Iter:  10\tAlpha: 0.012500\t   TRAIN entropy: 8.1037    Words/sec: 24270.3   VALID entropy: 8.6198\n"
     ]
    }
   ],
   "source": [
    "!rm -rf /home/snlp-project-21/Desktop/SNLP-Project/models/rnnlm/bn_s3_model_rnnlm*\n",
    "!/home/snlp-project-21/rnnlm/rnnlm \\\n",
    " -train /home/snlp-project-21/Desktop/SNLP-Project/spm/bn_s3/bn_s3_train_segmented.txt \\\n",
    " -valid /home/snlp-project-21/Desktop/SNLP-Project/spm/bn_s3/bn_s3_test_segmented.txt \\\n",
    " -rnnlm /home/snlp-project-21/Desktop/SNLP-Project/models/rnnlm/bn_s3_model_rnnlm \\\n",
    "   -hidden 120 \\\n",
    "   -rand-seed 1 \\\n",
    "   -debug 2 \\\n",
    "   -bptt 3 \\\n",
    "   -class 40"
   ]
  },
  {
   "cell_type": "markdown",
   "metadata": {},
   "source": [
    "### Perplexity for bn_s3"
   ]
  },
  {
   "cell_type": "code",
   "execution_count": 257,
   "metadata": {},
   "outputs": [
    {
     "name": "stdout",
     "output_type": "stream",
     "text": [
      "test file: /home/snlp-project-21/Desktop/SNLP-Project/spm/bn_s3/bn_s3_test_segmented.txt\n",
      "rnnlm file: /home/snlp-project-21/Desktop/SNLP-Project/models/rnnlm/bn_s3_model_rnnlm\n",
      "\n",
      "test log probability: -184783.441710\n",
      "\n",
      "PPL net: 393.401241\n"
     ]
    }
   ],
   "source": [
    "#Perplexity\n",
    "!/home/snlp-project-21/rnnlm/rnnlm -rnnlm /home/snlp-project-21/Desktop/SNLP-Project/models/rnnlm/bn_s3_model_rnnlm -test /home/snlp-project-21/Desktop/SNLP-Project/spm/bn_s3/bn_s3_test_segmented.txt"
   ]
  },
  {
   "cell_type": "markdown",
   "metadata": {},
   "source": [
    "## **4 Text Generation**"
   ]
  },
  {
   "cell_type": "markdown",
   "metadata": {},
   "source": [
    "## en_s1"
   ]
  },
  {
   "cell_type": "code",
   "execution_count": 227,
   "metadata": {},
   "outputs": [
    {
     "name": "stdout",
     "output_type": "stream",
     "text": [
      "Generating data for en s1...\n"
     ]
    }
   ],
   "source": [
    "%%bash\n",
    "/home/snlp-project-21/Desktop/SNLP-Project/GeneratedData/en_s1.sh"
   ]
  },
  {
   "cell_type": "markdown",
   "metadata": {},
   "source": [
    "## en_s2"
   ]
  },
  {
   "cell_type": "code",
   "execution_count": 258,
   "metadata": {},
   "outputs": [
    {
     "name": "stdout",
     "output_type": "stream",
     "text": [
      "Generating data for en s2...\n"
     ]
    }
   ],
   "source": [
    "%%bash\n",
    "/home/snlp-project-21/Desktop/SNLP-Project/GeneratedData/en_s2.sh"
   ]
  },
  {
   "cell_type": "markdown",
   "metadata": {},
   "source": [
    "## en_s3"
   ]
  },
  {
   "cell_type": "code",
   "execution_count": 259,
   "metadata": {},
   "outputs": [
    {
     "name": "stdout",
     "output_type": "stream",
     "text": [
      "Generating data for en s3...\n"
     ]
    }
   ],
   "source": [
    "%%bash\n",
    "/home/snlp-project-21/Desktop/SNLP-Project/GeneratedData/en_s3.sh"
   ]
  },
  {
   "cell_type": "markdown",
   "metadata": {},
   "source": [
    "## bn_s1"
   ]
  },
  {
   "cell_type": "code",
   "execution_count": 261,
   "metadata": {},
   "outputs": [
    {
     "name": "stdout",
     "output_type": "stream",
     "text": [
      "Generating data for bn s1...\n"
     ]
    }
   ],
   "source": [
    "%%bash\n",
    "/home/snlp-project-21/Desktop/SNLP-Project/GeneratedData/bn_s1.sh"
   ]
  },
  {
   "cell_type": "markdown",
   "metadata": {},
   "source": [
    "## bn_s2"
   ]
  },
  {
   "cell_type": "code",
   "execution_count": 262,
   "metadata": {},
   "outputs": [
    {
     "name": "stdout",
     "output_type": "stream",
     "text": [
      "Generating data for bn s2...\n"
     ]
    }
   ],
   "source": [
    "%%bash\n",
    "/home/snlp-project-21/Desktop/SNLP-Project/GeneratedData/bn_s2.sh"
   ]
  },
  {
   "cell_type": "markdown",
   "metadata": {},
   "source": [
    "## bn_s3"
   ]
  },
  {
   "cell_type": "code",
   "execution_count": 263,
   "metadata": {},
   "outputs": [
    {
     "name": "stdout",
     "output_type": "stream",
     "text": [
      "Generating data for bn s3...\n"
     ]
    }
   ],
   "source": [
    "%%bash\n",
    "/home/snlp-project-21/Desktop/SNLP-Project/GeneratedData/bn_s3.sh"
   ]
  },
  {
   "cell_type": "markdown",
   "metadata": {},
   "source": [
    "### Decoding generated files for all models"
   ]
  },
  {
   "cell_type": "code",
   "execution_count": 267,
   "metadata": {},
   "outputs": [
    {
     "name": "stdout",
     "output_type": "stream",
     "text": [
      "Decoding data for all models..\n"
     ]
    }
   ],
   "source": [
    "%%bash\n",
    "/home/snlp-project-21/Desktop/SNLP-Project/GeneratedData/decode_data.sh"
   ]
  },
  {
   "cell_type": "markdown",
   "metadata": {},
   "source": [
    "### **Inspection of \"100.txt\" file**\n",
    "\n",
    "When we inspected \"100.txt\" file for all models, we observed that there no proper words in the file generated by lower vocabolary model but as we go higher in vocabolary size, we can see the presence of more rich, proper and refined words in the file. This is because higher vocabolary model is able to identify more proper and correct words. We can easliy see that quality of text generation is improving. This scenario is same for both english and bengali."
   ]
  },
  {
   "cell_type": "markdown",
   "metadata": {},
   "source": [
    "### \"100.txt\" - en_s1\n",
    "\n",
    "and annts osess tonh you didy a long prinand i whod porply with her ask that pacright you showed tu"
   ]
  },
  {
   "cell_type": "markdown",
   "metadata": {},
   "source": [
    "### \"100.txt\" - en_s2\n",
    "\n",
    "howing oner to the pig or quite poot toan fatch so that the dime silere said and ive pution and the clacts again teak\n",
    "ining brole the bations would not happen apeend poor alice alice inston\n",
    "hadden she said the cat"
   ]
  },
  {
   "cell_type": "markdown",
   "metadata": {},
   "source": [
    "### \"100.txt\" - en_s3\n",
    "\n",
    "but thinking usual sounded off with which dinah i couldnt am after i has hairmentin dpto sle\n",
    "\n",
    "it very time in a voice of c direction\n",
    "\n",
    "are you know theyre till a thing she do the rabbitor still you know of\n",
    "\n",
    "ver does said the right thing\n",
    "\n",
    "go round what to speak and drew a little\n",
    "\n",
    "well as there was as she you dont\n",
    "beheaded and with his eyes half to school\n",
    "\n",
    "so read youll itll and went onranv"
   ]
  },
  {
   "cell_type": "markdown",
   "metadata": {},
   "source": [
    "### \"100.txt\" - bn_s1\n",
    "\n",
    "আম ও ওয়ন বচর পল ফস দকদখরম দখত পরছ অসধরণ হক ওদর আগ আগরগ চন মসব ওন জন তর বযবসথ করছ ক মন কর\n",
    "কর ববর হ"
   ]
  },
  {
   "cell_type": "markdown",
   "metadata": {},
   "source": [
    "### \"100.txt\" - bn_s2\n",
    "\n",
    "কজনর পর হয়ছ এই শরমজ লগ করনখনকর বচচ গরযকট আর তকএকট কথ মন নই আর নইআমর ত আমদর নরর সময়য করত হব আমর তদর বনচ জবন ন আপনক পর বরবলদশর ভডও আছ সব সময ক ভডও বন ডবতর ভডও খরপ লকট দওয় হকন সট পল জত মর খল হক বলছ যর সহ"
   ]
  },
  {
   "cell_type": "markdown",
   "metadata": {},
   "source": [
    "### \"100.txt\" - bn_s3\n",
    "\n",
    "\n",
    "ত চইএই ময় ওক ফস দওয় হকমগর ছদ মহলল ছল ফর জনক বচরর তলন করটই শয়তন রতন হয তহল বঝত পর আললহ মনন ছলক সবভবক দশর ডস কতন করছন এট বঝতম মন হয যবখনকরবসক জমহড় করবন আর কন ওয়জও আমর সথ বজ সধরণ মনষ বলদশর ডস হট বযলই কর পপন ভই আমর করন আর ধরত মনষ নই একজন মথ সনদর ভষ বলবনমশফকরনর হজর দশর মজ করত সই অনযয় লভ কনত জতপট কর হচছ সমজক পরম ন তম থকব আজ"
   ]
  },
  {
   "cell_type": "markdown",
   "metadata": {
    "id": "IYk9s9pZG3YG"
   },
   "source": [
    "## **5 OOV comparison**"
   ]
  },
  {
   "cell_type": "code",
   "execution_count": 344,
   "metadata": {},
   "outputs": [
    {
     "name": "stdout",
     "output_type": "stream",
     "text": [
      "OOV rate for original english text is 0.09036723706979427\n",
      "OOV rate for original bengali text is 0.103604932444392\n"
     ]
    }
   ],
   "source": [
    "import re\n",
    "import os\n",
    "from pathlib import Path\n",
    "\n",
    "from importlib import reload\n",
    "import CalcOOV\n",
    "CalcOOV = reload(CalcOOV)\n",
    "\n",
    "eng_train = Path(\"/home/snlp-project-21/Desktop/SNLP-Project/eng_train.txt\").open('r').read()\n",
    "eng_train = re.sub('\\s+', \" \", eng_train) # Removing white spaces\n",
    "eng_train_tokens = eng_train.split(\" \")\n",
    "\n",
    "eng_test = Path(\"/home/snlp-project-21/Desktop/SNLP-Project/eng_test.txt\").open('r').read()\n",
    "eng_test = re.sub('\\s+', \" \", eng_test) # Removing white spaces\n",
    "eng_test_tokens = eng_test.split(\" \")\n",
    "\n",
    "oov_rate = CalcOOV.calc_oov_rate(eng_train_tokens, eng_test_tokens)\n",
    "print(\"OOV rate for original english text is\", oov_rate)\n",
    "\n",
    "\n",
    "ben_train = Path(\"/home/snlp-project-21/Desktop/SNLP-Project/ben_train.txt\").open('r').read()\n",
    "ben_train = re.sub('\\s+', \" \", ben_train) # Removing white spaces\n",
    "ben_train_tokens = ben_train.split(\" \")\n",
    "\n",
    "ben_test = Path(\"/home/snlp-project-21/Desktop/SNLP-Project/ben_test.txt\").open('r').read()\n",
    "ben_test = re.sub('\\s+', \" \", ben_test) # Removing white spaces\n",
    "ben_test_tokens = ben_test.split(\" \")\n",
    "\n",
    "oov_rate = CalcOOV.calc_oov_rate(ben_train_tokens, ben_test_tokens)\n",
    "print(\"OOV rate for original bengali text is\", oov_rate)"
   ]
  },
  {
   "cell_type": "markdown",
   "metadata": {},
   "source": [
    "### oov rates for en_s1"
   ]
  },
  {
   "cell_type": "code",
   "execution_count": 308,
   "metadata": {},
   "outputs": [
    {
     "name": "stdout",
     "output_type": "stream",
     "text": [
      "OOV rate for file 10_decoded.txt is 0.0901749663526245\n",
      "OOV rate for file 100_decoded.txt is 0.0901749663526245\n",
      "OOV rate for file 1000_decoded.txt is 0.08998269563545472\n",
      "OOV rate for file 10000_decoded.txt is 0.08556046914054989\n",
      "OOV rate for file 100000_decoded.txt is 0.08267640838300327\n",
      "OOV rate for file 1000000_decoded.txt is 0.07710055758507979\n",
      "OOV rate for file 10000000_decoded.txt is 0.06633339742357239\n"
     ]
    }
   ],
   "source": [
    "en_s1_oov_rates = {}\n",
    "\n",
    "path = '/home/snlp-project-21/Desktop/SNLP-Project/GeneratedData/en_s1/decoded/'\n",
    "files = [i for i in os.listdir(path) if os.path.isfile(os.path.join(path,i))]\n",
    "\n",
    "for file in files:\n",
    "    f = open(os.path.join(path,file),'r')\n",
    "    \n",
    "    generated_data = f.read()\n",
    "    generated_data = re.sub('\\s+', \" \", generated_data) # Removing white spaces\n",
    "    generated_data_tokens = generated_data.split(\" \")\n",
    "\n",
    "    aug_train_data = eng_train_tokens + generated_data_tokens\n",
    "    \n",
    "    k = CalcOOV.calc_oov_rate(aug_train_data,eng_test_tokens)\n",
    "    en_s1_oov_rates[file] = k\n",
    "\n",
    "en_s1_oov_rates = dict(sorted(en_s1_oov_rates.items(), key = lambda item: item[0], reverse =True))\n",
    "for file, oov in en_s1_oov_rates.items():\n",
    "    print(\"OOV rate for file\", file, \"is\", oov)"
   ]
  },
  {
   "cell_type": "markdown",
   "metadata": {},
   "source": [
    "### plotting graph of oov rates for en_s1"
   ]
  },
  {
   "cell_type": "code",
   "execution_count": 309,
   "metadata": {},
   "outputs": [
    {
     "data": {
      "image/png": "[encoded data removed]",
      "text/plain": [
       "<Figure size 640x480 with 1 Axes>"
      ]
     },
     "metadata": {},
     "output_type": "display_data"
    }
   ],
   "source": [
    "import matplotlib.pyplot as plt\n",
    "\n",
    "fig = plt.figure()\n",
    "ax = fig.add_axes([0,0,1,1])\n",
    "\n",
    "x_axis = []\n",
    "y_axis = []\n",
    "\n",
    "for (file, oov_rate) in en_s1_oov_rates.items():\n",
    "    x_axis.append(file)\n",
    "    y_axis.append(oov_rate)\n",
    "\n",
    "ax.bar(x_axis, y_axis)\n",
    "\n",
    "plt.xlabel(\"x-axis (Generated data files)\")\n",
    "plt.ylabel(\"y-axis (OOV rate)\")\n",
    "plt.title(\"OOV rates for en_s1\")\n",
    "plt.xticks(rotation=90)\n",
    "plt.show()"
   ]
  },
  {
   "cell_type": "markdown",
   "metadata": {},
   "source": [
    "### oov rates for en_s2"
   ]
  },
  {
   "cell_type": "code",
   "execution_count": 310,
   "metadata": {},
   "outputs": [
    {
     "name": "stdout",
     "output_type": "stream",
     "text": [
      "OOV rate for file 1000_decoded.txt is 0.0901749663526245\n",
      "OOV rate for file 10_decoded.txt is 0.0901749663526245\n",
      "OOV rate for file 100_decoded.txt is 0.0901749663526245\n",
      "OOV rate for file 10000_decoded.txt is 0.08921361276677563\n",
      "OOV rate for file 100000_decoded.txt is 0.07960007690828687\n",
      "OOV rate for file 1000000_decoded.txt is 0.06902518746394924\n",
      "OOV rate for file 10000000_decoded.txt is 0.059219380888290714\n"
     ]
    }
   ],
   "source": [
    "en_s2_oov_rates = {}\n",
    "\n",
    "path = '/home/snlp-project-21/Desktop/SNLP-Project/GeneratedData/en_s2/decoded/'\n",
    "files = [i for i in os.listdir(path) if os.path.isfile(os.path.join(path,i))]\n",
    "\n",
    "for file in files:\n",
    "    f = open(os.path.join(path,file),'r')\n",
    "    \n",
    "    generated_data = f.read()\n",
    "    generated_data = re.sub('\\s+', \" \", generated_data) # Removing white spaces\n",
    "    generated_data_tokens = generated_data.split(\" \")\n",
    "\n",
    "    aug_train_data = eng_train_tokens + generated_data_tokens\n",
    "    \n",
    "    k = CalcOOV.calc_oov_rate(aug_train_data,eng_test_tokens)\n",
    "    en_s2_oov_rates[file] = k\n",
    "\n",
    "en_s2_oov_rates = dict(sorted(en_s2_oov_rates.items(), key = lambda item: item[0], reverse =True))\n",
    "for file, oov in en_s2_oov_rates.items():\n",
    "    print(\"OOV rate for file\", file, \"is\", oov)"
   ]
  },
  {
   "cell_type": "markdown",
   "metadata": {},
   "source": [
    "### plotting graph of oov rates for en_s2"
   ]
  },
  {
   "cell_type": "code",
   "execution_count": 312,
   "metadata": {},
   "outputs": [
    {
     "data": {
      "image/png": "[encoded data removed]",
      "text/plain": [
       "<Figure size 640x480 with 1 Axes>"
      ]
     },
     "metadata": {},
     "output_type": "display_data"
    }
   ],
   "source": [
    "import matplotlib.pyplot as plt\n",
    "\n",
    "fig = plt.figure()\n",
    "ax = fig.add_axes([0,0,1,1])\n",
    "\n",
    "x_axis = []\n",
    "y_axis = []\n",
    "\n",
    "for (file, oov_rate) in en_s2_oov_rates.items():\n",
    "    x_axis.append(file)\n",
    "    y_axis.append(oov_rate)\n",
    "\n",
    "ax.bar(x_axis, y_axis)\n",
    "\n",
    "plt.xlabel(\"x-axis (Generated data files)\")\n",
    "plt.ylabel(\"y-axis (OOV rate)\")\n",
    "plt.title(\"OOV rates for en_s2\")\n",
    "plt.xticks(rotation=90)\n",
    "plt.show()"
   ]
  },
  {
   "cell_type": "markdown",
   "metadata": {},
   "source": [
    "### oov rates for en_s3"
   ]
  },
  {
   "cell_type": "code",
   "execution_count": 311,
   "metadata": {},
   "outputs": [
    {
     "name": "stdout",
     "output_type": "stream",
     "text": [
      "OOV rate for file 10_decoded.txt is 0.0901749663526245\n",
      "OOV rate for file 100_decoded.txt is 0.0901749663526245\n",
      "OOV rate for file 1000_decoded.txt is 0.08998269563545472\n",
      "OOV rate for file 10000_decoded.txt is 0.08556046914054989\n",
      "OOV rate for file 100000_decoded.txt is 0.08267640838300327\n",
      "OOV rate for file 1000000_decoded.txt is 0.07710055758507979\n",
      "OOV rate for file 10000000_decoded.txt is 0.06633339742357239\n"
     ]
    }
   ],
   "source": [
    "en_s3_oov_rates = {}\n",
    "\n",
    "path = '/home/snlp-project-21/Desktop/SNLP-Project/GeneratedData/en_s3/decoded/'\n",
    "files = [i for i in os.listdir(path) if os.path.isfile(os.path.join(path,i))]\n",
    "\n",
    "for file in files:\n",
    "    f = open(os.path.join(path,file),'r')\n",
    "    \n",
    "    generated_data = f.read()\n",
    "    generated_data = re.sub('\\s+', \" \", generated_data) # Removing white spaces\n",
    "    generated_data_tokens = generated_data.split(\" \")\n",
    "\n",
    "    aug_train_data = eng_train_tokens + generated_data_tokens\n",
    "    \n",
    "    k = CalcOOV.calc_oov_rate(aug_train_data,eng_test_tokens)\n",
    "    en_s3_oov_rates[file] = k\n",
    "\n",
    "en_s3_oov_rates = dict(sorted(en_s1_oov_rates.items(), key = lambda item: item[0], reverse =True))\n",
    "for file, oov in en_s3_oov_rates.items():\n",
    "    print(\"OOV rate for file\", file, \"is\", oov)"
   ]
  },
  {
   "cell_type": "markdown",
   "metadata": {},
   "source": [
    "### plotting graph of oov rates for en_s3"
   ]
  },
  {
   "cell_type": "code",
   "execution_count": 313,
   "metadata": {
    "scrolled": true
   },
   "outputs": [
    {
     "data": {
      "image/png": "[encoded data removed]",
      "text/plain": [
       "<Figure size 640x480 with 1 Axes>"
      ]
     },
     "metadata": {},
     "output_type": "display_data"
    }
   ],
   "source": [
    "import matplotlib.pyplot as plt\n",
    "\n",
    "fig = plt.figure()\n",
    "ax = fig.add_axes([0,0,1,1])\n",
    "\n",
    "x_axis = []\n",
    "y_axis = []\n",
    "\n",
    "for (file, oov_rate) in en_s3_oov_rates.items():\n",
    "    x_axis.append(file)\n",
    "    y_axis.append(oov_rate)\n",
    "\n",
    "ax.bar(x_axis, y_axis)\n",
    "\n",
    "plt.xlabel(\"x-axis (Generated data files)\")\n",
    "plt.ylabel(\"y-axis (OOV rate)\")\n",
    "plt.title(\"OOV rates for en_s3\")\n",
    "plt.xticks(rotation=90)\n",
    "plt.show()"
   ]
  },
  {
   "cell_type": "markdown",
   "metadata": {},
   "source": [
    "### oov rates for bn_s1"
   ]
  },
  {
   "cell_type": "code",
   "execution_count": 323,
   "metadata": {},
   "outputs": [
    {
     "name": "stdout",
     "output_type": "stream",
     "text": [
      "OOV rate for file 10_decoded.txt is 0.0901749663526245\n",
      "OOV rate for file 100_decoded.txt is 0.0901749663526245\n",
      "OOV rate for file 1000_decoded.txt is 0.0901749663526245\n",
      "OOV rate for file 10000_decoded.txt is 0.0901749663526245\n",
      "OOV rate for file 100000_decoded.txt is 0.0901749663526245\n",
      "OOV rate for file 1000000_decoded.txt is 0.0901749663526245\n",
      "OOV rate for file 10000000_decoded.txt is 0.08998269563545472\n"
     ]
    }
   ],
   "source": [
    "bn_s1_oov_rates = {}\n",
    "\n",
    "path = '/home/snlp-project-21/Desktop/SNLP-Project/GeneratedData/bn_s1/decoded/'\n",
    "files = [i for i in os.listdir(path) if os.path.isfile(os.path.join(path,i))]\n",
    "\n",
    "for file in files:\n",
    "    f = open(os.path.join(path,file),'r')\n",
    "    \n",
    "    generated_data = f.read()\n",
    "    generated_data = re.sub('\\s+', \" \", generated_data) # Removing white spaces\n",
    "    generated_data_tokens = generated_data.split(\" \")\n",
    "\n",
    "    aug_train_data = eng_train_tokens + generated_data_tokens\n",
    "    \n",
    "    k = CalcOOV.calc_oov_rate(aug_train_data,eng_test_tokens)\n",
    "    bn_s1_oov_rates[file] = k\n",
    "\n",
    "bn_s1_oov_rates = dict(sorted(bn_s1_oov_rates.items(), key = lambda item: item[0], reverse =True))\n",
    "for file, oov in bn_s1_oov_rates.items():\n",
    "    print(\"OOV rate for file\", file, \"is\", oov)"
   ]
  },
  {
   "cell_type": "markdown",
   "metadata": {},
   "source": [
    "### plotting graph of oov rates for bn_s1"
   ]
  },
  {
   "cell_type": "code",
   "execution_count": 335,
   "metadata": {},
   "outputs": [
    {
     "data": {
      "image/png": "[encoded data removed]",
      "text/plain": [
       "<Figure size 640x480 with 1 Axes>"
      ]
     },
     "metadata": {},
     "output_type": "display_data"
    }
   ],
   "source": [
    "import matplotlib.pyplot as plt\n",
    "\n",
    "fig = plt.figure()\n",
    "ax = fig.add_axes([0,0,1,1])\n",
    "\n",
    "x_axis = []\n",
    "y_axis = []\n",
    "\n",
    "for (file, oov_rate) in bn_s1_oov_rates.items():\n",
    "    x_axis.append(file)\n",
    "    y_axis.append(oov_rate)\n",
    "\n",
    "ax.bar(x_axis, y_axis)\n",
    "\n",
    "plt.ylim(0.0895, 0.0910)\n",
    "plt.xlabel(\"x-axis (Generated data files)\")\n",
    "plt.ylabel(\"y-axis (OOV rate)\")\n",
    "plt.title(\"OOV rates for bn_s1\")\n",
    "plt.xticks(rotation=90)\n",
    "plt.show()"
   ]
  },
  {
   "cell_type": "markdown",
   "metadata": {},
   "source": [
    "### oov rates for bn_s2"
   ]
  },
  {
   "cell_type": "code",
   "execution_count": 336,
   "metadata": {},
   "outputs": [
    {
     "name": "stdout",
     "output_type": "stream",
     "text": [
      "OOV rate for file 10_decoded.txt is 0.0901749663526245\n",
      "OOV rate for file 100_decoded.txt is 0.0901749663526245\n",
      "OOV rate for file 1000_decoded.txt is 0.0901749663526245\n",
      "OOV rate for file 10000_decoded.txt is 0.0901749663526245\n",
      "OOV rate for file 100000_decoded.txt is 0.0901749663526245\n",
      "OOV rate for file 1000000_decoded.txt is 0.08979042491828494\n",
      "OOV rate for file 10000000_decoded.txt is 0.08959815420111517\n"
     ]
    }
   ],
   "source": [
    "bn_s2_oov_rates = {}\n",
    "\n",
    "path = '/home/snlp-project-21/Desktop/SNLP-Project/GeneratedData/bn_s2/decoded/'\n",
    "files = [i for i in os.listdir(path) if os.path.isfile(os.path.join(path,i))]\n",
    "\n",
    "for file in files:\n",
    "    f = open(os.path.join(path,file),'r')\n",
    "    \n",
    "    generated_data = f.read()\n",
    "    generated_data = re.sub('\\s+', \" \", generated_data) # Removing white spaces\n",
    "    generated_data_tokens = generated_data.split(\" \")\n",
    "\n",
    "    aug_train_data = eng_train_tokens + generated_data_tokens\n",
    "    \n",
    "    k = CalcOOV.calc_oov_rate(aug_train_data,eng_test_tokens)\n",
    "    bn_s2_oov_rates[file] = k\n",
    "\n",
    "bn_s2_oov_rates = dict(sorted(bn_s2_oov_rates.items(), key = lambda item: item[0], reverse =True))\n",
    "for file, oov in bn_s2_oov_rates.items():\n",
    "    print(\"OOV rate for file\", file, \"is\", oov)"
   ]
  },
  {
   "cell_type": "markdown",
   "metadata": {},
   "source": [
    "### plotting graph of oov rates for bn_s2"
   ]
  },
  {
   "cell_type": "code",
   "execution_count": 338,
   "metadata": {},
   "outputs": [
    {
     "data": {
      "image/png": "[encoded data removed]",
      "text/plain": [
       "<Figure size 640x480 with 1 Axes>"
      ]
     },
     "metadata": {},
     "output_type": "display_data"
    }
   ],
   "source": [
    "import matplotlib.pyplot as plt\n",
    "\n",
    "fig = plt.figure()\n",
    "ax = fig.add_axes([0,0,1,1])\n",
    "\n",
    "x_axis = []\n",
    "y_axis = []\n",
    "\n",
    "for (file, oov_rate) in bn_s2_oov_rates.items():\n",
    "    x_axis.append(file)\n",
    "    y_axis.append(oov_rate)\n",
    "\n",
    "ax.bar(x_axis, y_axis)\n",
    "\n",
    "plt.ylim(0.0895, 0.0910)\n",
    "plt.xlabel(\"x-axis (Generated data files)\")\n",
    "plt.ylabel(\"y-axis (OOV rate)\")\n",
    "plt.title(\"OOV rates for bn_s2\")\n",
    "plt.xticks(rotation=90)\n",
    "plt.show()"
   ]
  },
  {
   "cell_type": "markdown",
   "metadata": {},
   "source": [
    "### oov rates for bn_s3"
   ]
  },
  {
   "cell_type": "code",
   "execution_count": 341,
   "metadata": {
    "scrolled": true
   },
   "outputs": [
    {
     "name": "stdout",
     "output_type": "stream",
     "text": [
      "OOV rate for file 10_decoded.txt is 0.0901749663526245\n",
      "OOV rate for file 100_decoded.txt is 0.0901749663526245\n",
      "OOV rate for file 1000_decoded.txt is 0.0901749663526245\n",
      "OOV rate for file 10000_decoded.txt is 0.0901749663526245\n",
      "OOV rate for file 100000_decoded.txt is 0.0901749663526245\n",
      "OOV rate for file 1000000_decoded.txt is 0.0901749663526245\n",
      "OOV rate for file 10000000_decoded.txt is 0.08979042491828494\n"
     ]
    }
   ],
   "source": [
    "bn_s3_oov_rates = {}\n",
    "\n",
    "path = '/home/snlp-project-21/Desktop/SNLP-Project/GeneratedData/bn_s3/decoded/'\n",
    "files = [i for i in os.listdir(path) if os.path.isfile(os.path.join(path,i))]\n",
    "\n",
    "for file in files:\n",
    "    f = open(os.path.join(path,file),'r')\n",
    "    \n",
    "    generated_data = f.read()\n",
    "    generated_data = re.sub('\\s+', \" \", generated_data) # Removing white spaces\n",
    "    generated_data_tokens = generated_data.split(\" \")\n",
    "\n",
    "    aug_train_data = eng_train_tokens + generated_data_tokens\n",
    "    \n",
    "    k = CalcOOV.calc_oov_rate(aug_train_data,eng_test_tokens)\n",
    "    bn_s3_oov_rates[file] = k\n",
    "\n",
    "bn_s3_oov_rates = dict(sorted(bn_s3_oov_rates.items(), key = lambda item: item[0], reverse =True))\n",
    "for file, oov in bn_s3_oov_rates.items():\n",
    "    print(\"OOV rate for file\", file, \"is\", oov)"
   ]
  },
  {
   "cell_type": "markdown",
   "metadata": {},
   "source": [
    "### plotting graph of oov rates for bn_s3"
   ]
  },
  {
   "cell_type": "code",
   "execution_count": 342,
   "metadata": {},
   "outputs": [
    {
     "data": {
      "image/png": "[encoded data removed]",
      "text/plain": [
       "<Figure size 640x480 with 1 Axes>"
      ]
     },
     "metadata": {},
     "output_type": "display_data"
    }
   ],
   "source": [
    "import matplotlib.pyplot as plt\n",
    "\n",
    "fig = plt.figure()\n",
    "ax = fig.add_axes([0,0,1,1])\n",
    "\n",
    "x_axis = []\n",
    "y_axis = []\n",
    "\n",
    "for (file, oov_rate) in bn_s3_oov_rates.items():\n",
    "    x_axis.append(file)\n",
    "    y_axis.append(oov_rate)\n",
    "\n",
    "ax.bar(x_axis, y_axis)\n",
    "\n",
    "plt.ylim(0.0895, 0.0910)\n",
    "plt.xlabel(\"x-axis (Generated data files)\")\n",
    "plt.ylabel(\"y-axis (OOV rate)\")\n",
    "plt.title(\"OOV rates for bn_s3\")\n",
    "plt.xticks(rotation=90)\n",
    "plt.show()"
   ]
  },
  {
   "cell_type": "markdown",
   "metadata": {},
   "source": [
    "### **Observation for OOV rates**\n",
    "\n",
    "We observed that in each language model, oov rate is reducing when we increase the size of generated text file. This happens because we are increasing the number of tokens in our train data and chances of encountering the unseen tokens reduces. OOV rate decreases as we move from character level model to lower size vocabolary but remains same or higher as we go to higher level vocabolary. Hence, we should not create model with vocabolary equal to unique character size and also not equal to very high vocabolary size which will result in uneccesary creation of very high amount od words. We are getting good results with smaller vocabolary size(100-800) as it is sufficient to create all necessary words and also reduce the chances of unseen tokens. Hence, we will reccommend the usage of smaller vocabolary size model for both corpus(English and Bengali)."
   ]
  },
  {
   "cell_type": "markdown",
   "metadata": {},
   "source": [
    "## **6 Analysis**\n",
    "\n",
    "In this Project we have utilized the skills that we developed during our course of Statistical Natural Language Processing and aim to reduce OOV rate using sub word techniques. The Project has been divided into 5 tasks, namely – Pre-processing, Sub-words, LM Training, Text Generation and OOV comparison. \n",
    "\n",
    "In the first section, we did pre-processing for both English and Bengali Corpus as it is necessary to convert the raw data into a more understandable, useful, and efficient format. We removed the special characters and redundant data, to reduce the overhead during compilation of the model and only processing relevant data and not the waste data. While working on the Bengali Corpus some discrepancies occurred like the presence of long sentence length so we split these sentences during the pre-processing. \n",
    "\n",
    "In sub-word segmentation, breaking down the word into smaller units helps us to address the structure of the word more efficiently. We created data for our language model based on three different subword granularity – characters, subword units (closer to characters) and sub words units (closer to words).\n",
    "For the english language model with the subword granularity as character level, we defined the vocab size as 31 and obtained our trained prefix model for it. We repeated the same process for the remaining 2 levels - subwords with smaller vocabulary and subwords with larger vocabulary, with the vocab size 150 and 2000 respectively. We did the same process for the Bengali Corpus at all three levels - character, subwords with smaller vocabulary and subwords with larger vocabulary with the vocabulary values as 51, 200 and 2000 respectively.\n",
    "We observed that even though number of unique alphabets in english are 26 but still minimum vocabolary size for character level prefix model is higher because we also require some additional tokens like stop token '$</s>$', '$_$' which are essesntial for training model and subword encoding. This is similar while training character level prefix model for bengali corpus, but bengali's vocabolary size is larger than english because bengali is morphologically rich and have more number of unique characters.\n",
    "Thereafter, we encoded the original text using all 6 trained prefix model to obtain the segmented text. We also decoded the segmented text back to original text, thus validating the working of prefix model.\n",
    "\n",
    "We used RNNLM toolkit to train RNN model on subword units generated using sentence piece. As with all neural models, the performance and computation times depend on the number of hidden layers, backpropagation parameter. We tried to change the values of hyperparameters like class and hidden while training the RNN model. It is good practice to keep the class size less than vocabolary size for better results and we followed it. We tried different values for the hyperparameters(class and hidden) and finalised the one where perplexity was optimum and better than the baseline model. In same granularity level we observed that bengali's perplexity was higher than english due to alphabatetical and morphological richness of bengali and also due to presence of complex word structures.\n",
    "\n",
    "In text generation, we used RNN model to generate artificial data files $10^1, 10^2, 10^3, 10^4, 10^5, 10^6, 10^7$ for all six models. We decoded the data files, and observed that for lower size files there are no proper language words being generated but if we go on to check higher size data files then we can see proper language words in that file. This scenario improves as we move to files generated by higher vocabolary model as it is able to recognise more words and hence genrated files having more meaningful words.\n",
    "\n",
    "\n",
    "In OOV comparison, we have observed that oov rate is improving as we move from for lower size files to higher size files in all language models because more number of meaningful tokens are added into our training data. If we compare 100.txt of particular granularity level model to 1000000.txt of same model then we observe that there are more proper words added in the text and chances of encountering the unseen tokens in test data are reduced. Hence improving the OOV rate. We also get better results as we advance from character level vocabolary to smaller vocabolry but reduces or remain same for higher vocabolary .\n",
    "\n",
    "\n",
    "Conclusion, while working on the project we learnt about the importance to the data pre-processing and technique to implement sub word encoding. It make the evaluation and training more efficient. Then we learnt about the RNNLM model since an RNN deals with the variable length inputs, it is a suitable for modelling the sequential data such as sentences in natural language like in our corpus. Then we used RNNLM to generate artificial data as per our trained model for different output tokens to observe the adaptability of our model. At the end we use OOV rate comparisons to observe how our system behaves when we have more unseen words in our training corpus, we have observed that for higher token length there is a lower OOV comparison, but in general it reduces with the increase in the token length. Our aim was to reduce OOV rate with subword technique and we achieved it.\n"
   ]
  }
 ],
 "metadata": {
  "colab": {
   "collapsed_sections": [
    "101NY1wwGira",
    "yRODNp4CKFiZ"
   ],
   "name": "SNLP 2021 Final Project.ipynb",
   "provenance": []
  },
  "interpreter": {
   "hash": "916dbcbb3f70747c44a77c7bcd40155683ae19c65e1c03b4aa3499c5328201f1"
  },
  "kernelspec": {
   "display_name": "Python 3 (ipykernel)",
   "language": "python",
   "name": "python3"
  },
  "language_info": {
   "codemirror_mode": {
    "name": "ipython",
    "version": 3
   },
   "file_extension": ".py",
   "mimetype": "text/x-python",
   "name": "python",
   "nbconvert_exporter": "python",
   "pygments_lexer": "ipython3",
   "version": "3.9.7"
  }
 },
 "nbformat": 4,
 "nbformat_minor": 1
}
